{
  "nbformat": 4,
  "nbformat_minor": 0,
  "metadata": {
    "colab": {
      "provenance": []
    },
    "kernelspec": {
      "name": "python3",
      "display_name": "Python 3"
    },
    "language_info": {
      "name": "python"
    }
  },
  "cells": [
    {
      "cell_type": "code",
      "execution_count": 58,
      "metadata": {
        "id": "S5J5D0dLfcU-"
      },
      "outputs": [],
      "source": [
        "import numpy as np \n",
        "import pandas as pd \n",
        "import matplotlib.pyplot as plt\n",
        "import matplotlib.style as style\n",
        "import seaborn as sns\n",
        "from sklearn.preprocessing import LabelEncoder,StandardScaler\n",
        "from sklearn.model_selection import train_test_split\n",
        "from sklearn.svm import SVC\n",
        "from sklearn.feature_selection import RFECV\n",
        "\n"
      ]
    },
    {
      "cell_type": "code",
      "source": [
        "df=pd.read_csv(\"/content/csv_chronic_kidney_disease_full.csv\",error_bad_lines=False)\n"
      ],
      "metadata": {
        "id": "0oXck2q5f6q8",
        "colab": {
          "base_uri": "https://localhost:8080/"
        },
        "outputId": "978b16d5-e3e2-4a42-ee90-93249c86b3b0"
      },
      "execution_count": 59,
      "outputs": [
        {
          "output_type": "stream",
          "name": "stderr",
          "text": [
            "/usr/local/lib/python3.7/dist-packages/IPython/core/interactiveshell.py:3326: FutureWarning: The error_bad_lines argument has been deprecated and will be removed in a future version.\n",
            "\n",
            "\n",
            "  exec(code_obj, self.user_global_ns, self.user_ns)\n",
            "b'Skipping line 71: expected 26 fields, saw 27\\nSkipping line 74: expected 26 fields, saw 27\\nSkipping line 371: expected 26 fields, saw 27\\n'\n"
          ]
        }
      ]
    },
    {
      "cell_type": "code",
      "source": [
        "df"
      ],
      "metadata": {
        "colab": {
          "base_uri": "https://localhost:8080/",
          "height": 488
        },
        "id": "CiJlsCBBjuLH",
        "outputId": "d8d3e7dd-aa94-4186-ce49-dd32bf19f4e1"
      },
      "execution_count": 60,
      "outputs": [
        {
          "output_type": "execute_result",
          "data": {
            "text/plain": [
              "      id 'age' 'bp'   'sg' 'al' 'su'   'rbc'      'pc'       'pcc'  \\\n",
              "0      1    48   80  1.020    1    0       ?    normal  notpresent   \n",
              "1      2     7   50  1.020    4    0       ?    normal  notpresent   \n",
              "2      3    62   80  1.010    2    3  normal    normal  notpresent   \n",
              "3      4    48   70  1.005    4    0  normal  abnormal     present   \n",
              "4      5    51   80  1.010    2    0  normal    normal  notpresent   \n",
              "..   ...   ...  ...    ...  ...  ...     ...       ...         ...   \n",
              "392  396    55   80  1.020    0    0  normal    normal  notpresent   \n",
              "393  397    42   70  1.025    0    0  normal    normal  notpresent   \n",
              "394  398    12   80  1.020    0    0  normal    normal  notpresent   \n",
              "395  399    17   60  1.025    0    0  normal    normal  notpresent   \n",
              "396  400    58   80  1.025    0    0  normal    normal  notpresent   \n",
              "\n",
              "           'ba'  ... 'pcv' 'wbcc' 'rbcc' 'htn' 'dm' 'cad' 'appet' 'pe' 'ane'  \\\n",
              "0    notpresent  ...    44   7800    5.2   yes  yes    no    good   no    no   \n",
              "1    notpresent  ...    38   6000      ?    no   no    no    good   no    no   \n",
              "2    notpresent  ...    31   7500      ?    no  yes    no    poor   no   yes   \n",
              "3    notpresent  ...    32   6700    3.9   yes   no    no    poor  yes   yes   \n",
              "4    notpresent  ...    35   7300    4.6    no   no    no    good   no    no   \n",
              "..          ...  ...   ...    ...    ...   ...  ...   ...     ...  ...   ...   \n",
              "392  notpresent  ...    47   6700    4.9    no   no    no    good   no    no   \n",
              "393  notpresent  ...    54   7800    6.2    no   no    no    good   no    no   \n",
              "394  notpresent  ...    49   6600    5.4    no   no    no    good   no    no   \n",
              "395  notpresent  ...    51   7200    5.9    no   no    no    good   no    no   \n",
              "396  notpresent  ...    53   6800    6.1    no   no    no    good   no    no   \n",
              "\n",
              "    'class'  \n",
              "0       ckd  \n",
              "1       ckd  \n",
              "2       ckd  \n",
              "3       ckd  \n",
              "4       ckd  \n",
              "..      ...  \n",
              "392  notckd  \n",
              "393  notckd  \n",
              "394  notckd  \n",
              "395  notckd  \n",
              "396  notckd  \n",
              "\n",
              "[397 rows x 26 columns]"
            ],
            "text/html": [
              "\n",
              "  <div id=\"df-0377ae6f-1580-41f1-9614-cd1c1745bfd9\">\n",
              "    <div class=\"colab-df-container\">\n",
              "      <div>\n",
              "<style scoped>\n",
              "    .dataframe tbody tr th:only-of-type {\n",
              "        vertical-align: middle;\n",
              "    }\n",
              "\n",
              "    .dataframe tbody tr th {\n",
              "        vertical-align: top;\n",
              "    }\n",
              "\n",
              "    .dataframe thead th {\n",
              "        text-align: right;\n",
              "    }\n",
              "</style>\n",
              "<table border=\"1\" class=\"dataframe\">\n",
              "  <thead>\n",
              "    <tr style=\"text-align: right;\">\n",
              "      <th></th>\n",
              "      <th>id</th>\n",
              "      <th>'age'</th>\n",
              "      <th>'bp'</th>\n",
              "      <th>'sg'</th>\n",
              "      <th>'al'</th>\n",
              "      <th>'su'</th>\n",
              "      <th>'rbc'</th>\n",
              "      <th>'pc'</th>\n",
              "      <th>'pcc'</th>\n",
              "      <th>'ba'</th>\n",
              "      <th>...</th>\n",
              "      <th>'pcv'</th>\n",
              "      <th>'wbcc'</th>\n",
              "      <th>'rbcc'</th>\n",
              "      <th>'htn'</th>\n",
              "      <th>'dm'</th>\n",
              "      <th>'cad'</th>\n",
              "      <th>'appet'</th>\n",
              "      <th>'pe'</th>\n",
              "      <th>'ane'</th>\n",
              "      <th>'class'</th>\n",
              "    </tr>\n",
              "  </thead>\n",
              "  <tbody>\n",
              "    <tr>\n",
              "      <th>0</th>\n",
              "      <td>1</td>\n",
              "      <td>48</td>\n",
              "      <td>80</td>\n",
              "      <td>1.020</td>\n",
              "      <td>1</td>\n",
              "      <td>0</td>\n",
              "      <td>?</td>\n",
              "      <td>normal</td>\n",
              "      <td>notpresent</td>\n",
              "      <td>notpresent</td>\n",
              "      <td>...</td>\n",
              "      <td>44</td>\n",
              "      <td>7800</td>\n",
              "      <td>5.2</td>\n",
              "      <td>yes</td>\n",
              "      <td>yes</td>\n",
              "      <td>no</td>\n",
              "      <td>good</td>\n",
              "      <td>no</td>\n",
              "      <td>no</td>\n",
              "      <td>ckd</td>\n",
              "    </tr>\n",
              "    <tr>\n",
              "      <th>1</th>\n",
              "      <td>2</td>\n",
              "      <td>7</td>\n",
              "      <td>50</td>\n",
              "      <td>1.020</td>\n",
              "      <td>4</td>\n",
              "      <td>0</td>\n",
              "      <td>?</td>\n",
              "      <td>normal</td>\n",
              "      <td>notpresent</td>\n",
              "      <td>notpresent</td>\n",
              "      <td>...</td>\n",
              "      <td>38</td>\n",
              "      <td>6000</td>\n",
              "      <td>?</td>\n",
              "      <td>no</td>\n",
              "      <td>no</td>\n",
              "      <td>no</td>\n",
              "      <td>good</td>\n",
              "      <td>no</td>\n",
              "      <td>no</td>\n",
              "      <td>ckd</td>\n",
              "    </tr>\n",
              "    <tr>\n",
              "      <th>2</th>\n",
              "      <td>3</td>\n",
              "      <td>62</td>\n",
              "      <td>80</td>\n",
              "      <td>1.010</td>\n",
              "      <td>2</td>\n",
              "      <td>3</td>\n",
              "      <td>normal</td>\n",
              "      <td>normal</td>\n",
              "      <td>notpresent</td>\n",
              "      <td>notpresent</td>\n",
              "      <td>...</td>\n",
              "      <td>31</td>\n",
              "      <td>7500</td>\n",
              "      <td>?</td>\n",
              "      <td>no</td>\n",
              "      <td>yes</td>\n",
              "      <td>no</td>\n",
              "      <td>poor</td>\n",
              "      <td>no</td>\n",
              "      <td>yes</td>\n",
              "      <td>ckd</td>\n",
              "    </tr>\n",
              "    <tr>\n",
              "      <th>3</th>\n",
              "      <td>4</td>\n",
              "      <td>48</td>\n",
              "      <td>70</td>\n",
              "      <td>1.005</td>\n",
              "      <td>4</td>\n",
              "      <td>0</td>\n",
              "      <td>normal</td>\n",
              "      <td>abnormal</td>\n",
              "      <td>present</td>\n",
              "      <td>notpresent</td>\n",
              "      <td>...</td>\n",
              "      <td>32</td>\n",
              "      <td>6700</td>\n",
              "      <td>3.9</td>\n",
              "      <td>yes</td>\n",
              "      <td>no</td>\n",
              "      <td>no</td>\n",
              "      <td>poor</td>\n",
              "      <td>yes</td>\n",
              "      <td>yes</td>\n",
              "      <td>ckd</td>\n",
              "    </tr>\n",
              "    <tr>\n",
              "      <th>4</th>\n",
              "      <td>5</td>\n",
              "      <td>51</td>\n",
              "      <td>80</td>\n",
              "      <td>1.010</td>\n",
              "      <td>2</td>\n",
              "      <td>0</td>\n",
              "      <td>normal</td>\n",
              "      <td>normal</td>\n",
              "      <td>notpresent</td>\n",
              "      <td>notpresent</td>\n",
              "      <td>...</td>\n",
              "      <td>35</td>\n",
              "      <td>7300</td>\n",
              "      <td>4.6</td>\n",
              "      <td>no</td>\n",
              "      <td>no</td>\n",
              "      <td>no</td>\n",
              "      <td>good</td>\n",
              "      <td>no</td>\n",
              "      <td>no</td>\n",
              "      <td>ckd</td>\n",
              "    </tr>\n",
              "    <tr>\n",
              "      <th>...</th>\n",
              "      <td>...</td>\n",
              "      <td>...</td>\n",
              "      <td>...</td>\n",
              "      <td>...</td>\n",
              "      <td>...</td>\n",
              "      <td>...</td>\n",
              "      <td>...</td>\n",
              "      <td>...</td>\n",
              "      <td>...</td>\n",
              "      <td>...</td>\n",
              "      <td>...</td>\n",
              "      <td>...</td>\n",
              "      <td>...</td>\n",
              "      <td>...</td>\n",
              "      <td>...</td>\n",
              "      <td>...</td>\n",
              "      <td>...</td>\n",
              "      <td>...</td>\n",
              "      <td>...</td>\n",
              "      <td>...</td>\n",
              "      <td>...</td>\n",
              "    </tr>\n",
              "    <tr>\n",
              "      <th>392</th>\n",
              "      <td>396</td>\n",
              "      <td>55</td>\n",
              "      <td>80</td>\n",
              "      <td>1.020</td>\n",
              "      <td>0</td>\n",
              "      <td>0</td>\n",
              "      <td>normal</td>\n",
              "      <td>normal</td>\n",
              "      <td>notpresent</td>\n",
              "      <td>notpresent</td>\n",
              "      <td>...</td>\n",
              "      <td>47</td>\n",
              "      <td>6700</td>\n",
              "      <td>4.9</td>\n",
              "      <td>no</td>\n",
              "      <td>no</td>\n",
              "      <td>no</td>\n",
              "      <td>good</td>\n",
              "      <td>no</td>\n",
              "      <td>no</td>\n",
              "      <td>notckd</td>\n",
              "    </tr>\n",
              "    <tr>\n",
              "      <th>393</th>\n",
              "      <td>397</td>\n",
              "      <td>42</td>\n",
              "      <td>70</td>\n",
              "      <td>1.025</td>\n",
              "      <td>0</td>\n",
              "      <td>0</td>\n",
              "      <td>normal</td>\n",
              "      <td>normal</td>\n",
              "      <td>notpresent</td>\n",
              "      <td>notpresent</td>\n",
              "      <td>...</td>\n",
              "      <td>54</td>\n",
              "      <td>7800</td>\n",
              "      <td>6.2</td>\n",
              "      <td>no</td>\n",
              "      <td>no</td>\n",
              "      <td>no</td>\n",
              "      <td>good</td>\n",
              "      <td>no</td>\n",
              "      <td>no</td>\n",
              "      <td>notckd</td>\n",
              "    </tr>\n",
              "    <tr>\n",
              "      <th>394</th>\n",
              "      <td>398</td>\n",
              "      <td>12</td>\n",
              "      <td>80</td>\n",
              "      <td>1.020</td>\n",
              "      <td>0</td>\n",
              "      <td>0</td>\n",
              "      <td>normal</td>\n",
              "      <td>normal</td>\n",
              "      <td>notpresent</td>\n",
              "      <td>notpresent</td>\n",
              "      <td>...</td>\n",
              "      <td>49</td>\n",
              "      <td>6600</td>\n",
              "      <td>5.4</td>\n",
              "      <td>no</td>\n",
              "      <td>no</td>\n",
              "      <td>no</td>\n",
              "      <td>good</td>\n",
              "      <td>no</td>\n",
              "      <td>no</td>\n",
              "      <td>notckd</td>\n",
              "    </tr>\n",
              "    <tr>\n",
              "      <th>395</th>\n",
              "      <td>399</td>\n",
              "      <td>17</td>\n",
              "      <td>60</td>\n",
              "      <td>1.025</td>\n",
              "      <td>0</td>\n",
              "      <td>0</td>\n",
              "      <td>normal</td>\n",
              "      <td>normal</td>\n",
              "      <td>notpresent</td>\n",
              "      <td>notpresent</td>\n",
              "      <td>...</td>\n",
              "      <td>51</td>\n",
              "      <td>7200</td>\n",
              "      <td>5.9</td>\n",
              "      <td>no</td>\n",
              "      <td>no</td>\n",
              "      <td>no</td>\n",
              "      <td>good</td>\n",
              "      <td>no</td>\n",
              "      <td>no</td>\n",
              "      <td>notckd</td>\n",
              "    </tr>\n",
              "    <tr>\n",
              "      <th>396</th>\n",
              "      <td>400</td>\n",
              "      <td>58</td>\n",
              "      <td>80</td>\n",
              "      <td>1.025</td>\n",
              "      <td>0</td>\n",
              "      <td>0</td>\n",
              "      <td>normal</td>\n",
              "      <td>normal</td>\n",
              "      <td>notpresent</td>\n",
              "      <td>notpresent</td>\n",
              "      <td>...</td>\n",
              "      <td>53</td>\n",
              "      <td>6800</td>\n",
              "      <td>6.1</td>\n",
              "      <td>no</td>\n",
              "      <td>no</td>\n",
              "      <td>no</td>\n",
              "      <td>good</td>\n",
              "      <td>no</td>\n",
              "      <td>no</td>\n",
              "      <td>notckd</td>\n",
              "    </tr>\n",
              "  </tbody>\n",
              "</table>\n",
              "<p>397 rows × 26 columns</p>\n",
              "</div>\n",
              "      <button class=\"colab-df-convert\" onclick=\"convertToInteractive('df-0377ae6f-1580-41f1-9614-cd1c1745bfd9')\"\n",
              "              title=\"Convert this dataframe to an interactive table.\"\n",
              "              style=\"display:none;\">\n",
              "        \n",
              "  <svg xmlns=\"http://www.w3.org/2000/svg\" height=\"24px\"viewBox=\"0 0 24 24\"\n",
              "       width=\"24px\">\n",
              "    <path d=\"M0 0h24v24H0V0z\" fill=\"none\"/>\n",
              "    <path d=\"M18.56 5.44l.94 2.06.94-2.06 2.06-.94-2.06-.94-.94-2.06-.94 2.06-2.06.94zm-11 1L8.5 8.5l.94-2.06 2.06-.94-2.06-.94L8.5 2.5l-.94 2.06-2.06.94zm10 10l.94 2.06.94-2.06 2.06-.94-2.06-.94-.94-2.06-.94 2.06-2.06.94z\"/><path d=\"M17.41 7.96l-1.37-1.37c-.4-.4-.92-.59-1.43-.59-.52 0-1.04.2-1.43.59L10.3 9.45l-7.72 7.72c-.78.78-.78 2.05 0 2.83L4 21.41c.39.39.9.59 1.41.59.51 0 1.02-.2 1.41-.59l7.78-7.78 2.81-2.81c.8-.78.8-2.07 0-2.86zM5.41 20L4 18.59l7.72-7.72 1.47 1.35L5.41 20z\"/>\n",
              "  </svg>\n",
              "      </button>\n",
              "      \n",
              "  <style>\n",
              "    .colab-df-container {\n",
              "      display:flex;\n",
              "      flex-wrap:wrap;\n",
              "      gap: 12px;\n",
              "    }\n",
              "\n",
              "    .colab-df-convert {\n",
              "      background-color: #E8F0FE;\n",
              "      border: none;\n",
              "      border-radius: 50%;\n",
              "      cursor: pointer;\n",
              "      display: none;\n",
              "      fill: #1967D2;\n",
              "      height: 32px;\n",
              "      padding: 0 0 0 0;\n",
              "      width: 32px;\n",
              "    }\n",
              "\n",
              "    .colab-df-convert:hover {\n",
              "      background-color: #E2EBFA;\n",
              "      box-shadow: 0px 1px 2px rgba(60, 64, 67, 0.3), 0px 1px 3px 1px rgba(60, 64, 67, 0.15);\n",
              "      fill: #174EA6;\n",
              "    }\n",
              "\n",
              "    [theme=dark] .colab-df-convert {\n",
              "      background-color: #3B4455;\n",
              "      fill: #D2E3FC;\n",
              "    }\n",
              "\n",
              "    [theme=dark] .colab-df-convert:hover {\n",
              "      background-color: #434B5C;\n",
              "      box-shadow: 0px 1px 3px 1px rgba(0, 0, 0, 0.15);\n",
              "      filter: drop-shadow(0px 1px 2px rgba(0, 0, 0, 0.3));\n",
              "      fill: #FFFFFF;\n",
              "    }\n",
              "  </style>\n",
              "\n",
              "      <script>\n",
              "        const buttonEl =\n",
              "          document.querySelector('#df-0377ae6f-1580-41f1-9614-cd1c1745bfd9 button.colab-df-convert');\n",
              "        buttonEl.style.display =\n",
              "          google.colab.kernel.accessAllowed ? 'block' : 'none';\n",
              "\n",
              "        async function convertToInteractive(key) {\n",
              "          const element = document.querySelector('#df-0377ae6f-1580-41f1-9614-cd1c1745bfd9');\n",
              "          const dataTable =\n",
              "            await google.colab.kernel.invokeFunction('convertToInteractive',\n",
              "                                                     [key], {});\n",
              "          if (!dataTable) return;\n",
              "\n",
              "          const docLinkHtml = 'Like what you see? Visit the ' +\n",
              "            '<a target=\"_blank\" href=https://colab.research.google.com/notebooks/data_table.ipynb>data table notebook</a>'\n",
              "            + ' to learn more about interactive tables.';\n",
              "          element.innerHTML = '';\n",
              "          dataTable['output_type'] = 'display_data';\n",
              "          await google.colab.output.renderOutput(dataTable, element);\n",
              "          const docLink = document.createElement('div');\n",
              "          docLink.innerHTML = docLinkHtml;\n",
              "          element.appendChild(docLink);\n",
              "        }\n",
              "      </script>\n",
              "    </div>\n",
              "  </div>\n",
              "  "
            ]
          },
          "metadata": {},
          "execution_count": 60
        }
      ]
    },
    {
      "cell_type": "code",
      "source": [
        "df.shape"
      ],
      "metadata": {
        "colab": {
          "base_uri": "https://localhost:8080/"
        },
        "id": "PCpZeJGOlMIg",
        "outputId": "4dec3246-3e5f-46f0-807b-a435a248eb7c"
      },
      "execution_count": 61,
      "outputs": [
        {
          "output_type": "execute_result",
          "data": {
            "text/plain": [
              "(397, 26)"
            ]
          },
          "metadata": {},
          "execution_count": 61
        }
      ]
    },
    {
      "cell_type": "code",
      "source": [
        "df.isnull().sum()"
      ],
      "metadata": {
        "colab": {
          "base_uri": "https://localhost:8080/"
        },
        "id": "7tV8VtRfk8cg",
        "outputId": "0b512489-b781-4d69-9832-69043b25252e"
      },
      "execution_count": 62,
      "outputs": [
        {
          "output_type": "execute_result",
          "data": {
            "text/plain": [
              "id         0\n",
              "'age'      0\n",
              "'bp'       0\n",
              "'sg'       0\n",
              "'al'       0\n",
              "'su'       0\n",
              "'rbc'      0\n",
              "'pc'       0\n",
              "'pcc'      0\n",
              "'ba'       0\n",
              "'bgr'      0\n",
              "'bu'       0\n",
              "'sc'       0\n",
              "'sod'      0\n",
              "'pot'      0\n",
              "'hemo'     0\n",
              "'pcv'      0\n",
              "'wbcc'     0\n",
              "'rbcc'     0\n",
              "'htn'      0\n",
              "'dm'       0\n",
              "'cad'      0\n",
              "'appet'    0\n",
              "'pe'       0\n",
              "'ane'      0\n",
              "'class'    0\n",
              "dtype: int64"
            ]
          },
          "metadata": {},
          "execution_count": 62
        }
      ]
    },
    {
      "cell_type": "markdown",
      "source": [
        "Because the missing values appears in the data with the '?' mark \n",
        "\n",
        "```\n",
        "# This is formatted as code\n",
        "```\n",
        "\n"
      ],
      "metadata": {
        "id": "86Xde07KGUpc"
      }
    },
    {
      "cell_type": "code",
      "source": [
        "df=df.replace('?',np.nan)"
      ],
      "metadata": {
        "id": "dX-cF057yxyg"
      },
      "execution_count": 63,
      "outputs": []
    },
    {
      "cell_type": "code",
      "source": [
        "df\n"
      ],
      "metadata": {
        "id": "5QnJgPJSq8Dt",
        "colab": {
          "base_uri": "https://localhost:8080/",
          "height": 488
        },
        "outputId": "464bfc48-2e86-4656-a5b8-2f72690f9877"
      },
      "execution_count": 64,
      "outputs": [
        {
          "output_type": "execute_result",
          "data": {
            "text/plain": [
              "      id 'age' 'bp'   'sg' 'al' 'su'   'rbc'      'pc'       'pcc'  \\\n",
              "0      1    48   80  1.020    1    0     NaN    normal  notpresent   \n",
              "1      2     7   50  1.020    4    0     NaN    normal  notpresent   \n",
              "2      3    62   80  1.010    2    3  normal    normal  notpresent   \n",
              "3      4    48   70  1.005    4    0  normal  abnormal     present   \n",
              "4      5    51   80  1.010    2    0  normal    normal  notpresent   \n",
              "..   ...   ...  ...    ...  ...  ...     ...       ...         ...   \n",
              "392  396    55   80  1.020    0    0  normal    normal  notpresent   \n",
              "393  397    42   70  1.025    0    0  normal    normal  notpresent   \n",
              "394  398    12   80  1.020    0    0  normal    normal  notpresent   \n",
              "395  399    17   60  1.025    0    0  normal    normal  notpresent   \n",
              "396  400    58   80  1.025    0    0  normal    normal  notpresent   \n",
              "\n",
              "           'ba'  ... 'pcv' 'wbcc' 'rbcc' 'htn' 'dm' 'cad' 'appet' 'pe' 'ane'  \\\n",
              "0    notpresent  ...    44   7800    5.2   yes  yes    no    good   no    no   \n",
              "1    notpresent  ...    38   6000    NaN    no   no    no    good   no    no   \n",
              "2    notpresent  ...    31   7500    NaN    no  yes    no    poor   no   yes   \n",
              "3    notpresent  ...    32   6700    3.9   yes   no    no    poor  yes   yes   \n",
              "4    notpresent  ...    35   7300    4.6    no   no    no    good   no    no   \n",
              "..          ...  ...   ...    ...    ...   ...  ...   ...     ...  ...   ...   \n",
              "392  notpresent  ...    47   6700    4.9    no   no    no    good   no    no   \n",
              "393  notpresent  ...    54   7800    6.2    no   no    no    good   no    no   \n",
              "394  notpresent  ...    49   6600    5.4    no   no    no    good   no    no   \n",
              "395  notpresent  ...    51   7200    5.9    no   no    no    good   no    no   \n",
              "396  notpresent  ...    53   6800    6.1    no   no    no    good   no    no   \n",
              "\n",
              "    'class'  \n",
              "0       ckd  \n",
              "1       ckd  \n",
              "2       ckd  \n",
              "3       ckd  \n",
              "4       ckd  \n",
              "..      ...  \n",
              "392  notckd  \n",
              "393  notckd  \n",
              "394  notckd  \n",
              "395  notckd  \n",
              "396  notckd  \n",
              "\n",
              "[397 rows x 26 columns]"
            ],
            "text/html": [
              "\n",
              "  <div id=\"df-0b545b36-4351-44d5-a702-7c546737eb9e\">\n",
              "    <div class=\"colab-df-container\">\n",
              "      <div>\n",
              "<style scoped>\n",
              "    .dataframe tbody tr th:only-of-type {\n",
              "        vertical-align: middle;\n",
              "    }\n",
              "\n",
              "    .dataframe tbody tr th {\n",
              "        vertical-align: top;\n",
              "    }\n",
              "\n",
              "    .dataframe thead th {\n",
              "        text-align: right;\n",
              "    }\n",
              "</style>\n",
              "<table border=\"1\" class=\"dataframe\">\n",
              "  <thead>\n",
              "    <tr style=\"text-align: right;\">\n",
              "      <th></th>\n",
              "      <th>id</th>\n",
              "      <th>'age'</th>\n",
              "      <th>'bp'</th>\n",
              "      <th>'sg'</th>\n",
              "      <th>'al'</th>\n",
              "      <th>'su'</th>\n",
              "      <th>'rbc'</th>\n",
              "      <th>'pc'</th>\n",
              "      <th>'pcc'</th>\n",
              "      <th>'ba'</th>\n",
              "      <th>...</th>\n",
              "      <th>'pcv'</th>\n",
              "      <th>'wbcc'</th>\n",
              "      <th>'rbcc'</th>\n",
              "      <th>'htn'</th>\n",
              "      <th>'dm'</th>\n",
              "      <th>'cad'</th>\n",
              "      <th>'appet'</th>\n",
              "      <th>'pe'</th>\n",
              "      <th>'ane'</th>\n",
              "      <th>'class'</th>\n",
              "    </tr>\n",
              "  </thead>\n",
              "  <tbody>\n",
              "    <tr>\n",
              "      <th>0</th>\n",
              "      <td>1</td>\n",
              "      <td>48</td>\n",
              "      <td>80</td>\n",
              "      <td>1.020</td>\n",
              "      <td>1</td>\n",
              "      <td>0</td>\n",
              "      <td>NaN</td>\n",
              "      <td>normal</td>\n",
              "      <td>notpresent</td>\n",
              "      <td>notpresent</td>\n",
              "      <td>...</td>\n",
              "      <td>44</td>\n",
              "      <td>7800</td>\n",
              "      <td>5.2</td>\n",
              "      <td>yes</td>\n",
              "      <td>yes</td>\n",
              "      <td>no</td>\n",
              "      <td>good</td>\n",
              "      <td>no</td>\n",
              "      <td>no</td>\n",
              "      <td>ckd</td>\n",
              "    </tr>\n",
              "    <tr>\n",
              "      <th>1</th>\n",
              "      <td>2</td>\n",
              "      <td>7</td>\n",
              "      <td>50</td>\n",
              "      <td>1.020</td>\n",
              "      <td>4</td>\n",
              "      <td>0</td>\n",
              "      <td>NaN</td>\n",
              "      <td>normal</td>\n",
              "      <td>notpresent</td>\n",
              "      <td>notpresent</td>\n",
              "      <td>...</td>\n",
              "      <td>38</td>\n",
              "      <td>6000</td>\n",
              "      <td>NaN</td>\n",
              "      <td>no</td>\n",
              "      <td>no</td>\n",
              "      <td>no</td>\n",
              "      <td>good</td>\n",
              "      <td>no</td>\n",
              "      <td>no</td>\n",
              "      <td>ckd</td>\n",
              "    </tr>\n",
              "    <tr>\n",
              "      <th>2</th>\n",
              "      <td>3</td>\n",
              "      <td>62</td>\n",
              "      <td>80</td>\n",
              "      <td>1.010</td>\n",
              "      <td>2</td>\n",
              "      <td>3</td>\n",
              "      <td>normal</td>\n",
              "      <td>normal</td>\n",
              "      <td>notpresent</td>\n",
              "      <td>notpresent</td>\n",
              "      <td>...</td>\n",
              "      <td>31</td>\n",
              "      <td>7500</td>\n",
              "      <td>NaN</td>\n",
              "      <td>no</td>\n",
              "      <td>yes</td>\n",
              "      <td>no</td>\n",
              "      <td>poor</td>\n",
              "      <td>no</td>\n",
              "      <td>yes</td>\n",
              "      <td>ckd</td>\n",
              "    </tr>\n",
              "    <tr>\n",
              "      <th>3</th>\n",
              "      <td>4</td>\n",
              "      <td>48</td>\n",
              "      <td>70</td>\n",
              "      <td>1.005</td>\n",
              "      <td>4</td>\n",
              "      <td>0</td>\n",
              "      <td>normal</td>\n",
              "      <td>abnormal</td>\n",
              "      <td>present</td>\n",
              "      <td>notpresent</td>\n",
              "      <td>...</td>\n",
              "      <td>32</td>\n",
              "      <td>6700</td>\n",
              "      <td>3.9</td>\n",
              "      <td>yes</td>\n",
              "      <td>no</td>\n",
              "      <td>no</td>\n",
              "      <td>poor</td>\n",
              "      <td>yes</td>\n",
              "      <td>yes</td>\n",
              "      <td>ckd</td>\n",
              "    </tr>\n",
              "    <tr>\n",
              "      <th>4</th>\n",
              "      <td>5</td>\n",
              "      <td>51</td>\n",
              "      <td>80</td>\n",
              "      <td>1.010</td>\n",
              "      <td>2</td>\n",
              "      <td>0</td>\n",
              "      <td>normal</td>\n",
              "      <td>normal</td>\n",
              "      <td>notpresent</td>\n",
              "      <td>notpresent</td>\n",
              "      <td>...</td>\n",
              "      <td>35</td>\n",
              "      <td>7300</td>\n",
              "      <td>4.6</td>\n",
              "      <td>no</td>\n",
              "      <td>no</td>\n",
              "      <td>no</td>\n",
              "      <td>good</td>\n",
              "      <td>no</td>\n",
              "      <td>no</td>\n",
              "      <td>ckd</td>\n",
              "    </tr>\n",
              "    <tr>\n",
              "      <th>...</th>\n",
              "      <td>...</td>\n",
              "      <td>...</td>\n",
              "      <td>...</td>\n",
              "      <td>...</td>\n",
              "      <td>...</td>\n",
              "      <td>...</td>\n",
              "      <td>...</td>\n",
              "      <td>...</td>\n",
              "      <td>...</td>\n",
              "      <td>...</td>\n",
              "      <td>...</td>\n",
              "      <td>...</td>\n",
              "      <td>...</td>\n",
              "      <td>...</td>\n",
              "      <td>...</td>\n",
              "      <td>...</td>\n",
              "      <td>...</td>\n",
              "      <td>...</td>\n",
              "      <td>...</td>\n",
              "      <td>...</td>\n",
              "      <td>...</td>\n",
              "    </tr>\n",
              "    <tr>\n",
              "      <th>392</th>\n",
              "      <td>396</td>\n",
              "      <td>55</td>\n",
              "      <td>80</td>\n",
              "      <td>1.020</td>\n",
              "      <td>0</td>\n",
              "      <td>0</td>\n",
              "      <td>normal</td>\n",
              "      <td>normal</td>\n",
              "      <td>notpresent</td>\n",
              "      <td>notpresent</td>\n",
              "      <td>...</td>\n",
              "      <td>47</td>\n",
              "      <td>6700</td>\n",
              "      <td>4.9</td>\n",
              "      <td>no</td>\n",
              "      <td>no</td>\n",
              "      <td>no</td>\n",
              "      <td>good</td>\n",
              "      <td>no</td>\n",
              "      <td>no</td>\n",
              "      <td>notckd</td>\n",
              "    </tr>\n",
              "    <tr>\n",
              "      <th>393</th>\n",
              "      <td>397</td>\n",
              "      <td>42</td>\n",
              "      <td>70</td>\n",
              "      <td>1.025</td>\n",
              "      <td>0</td>\n",
              "      <td>0</td>\n",
              "      <td>normal</td>\n",
              "      <td>normal</td>\n",
              "      <td>notpresent</td>\n",
              "      <td>notpresent</td>\n",
              "      <td>...</td>\n",
              "      <td>54</td>\n",
              "      <td>7800</td>\n",
              "      <td>6.2</td>\n",
              "      <td>no</td>\n",
              "      <td>no</td>\n",
              "      <td>no</td>\n",
              "      <td>good</td>\n",
              "      <td>no</td>\n",
              "      <td>no</td>\n",
              "      <td>notckd</td>\n",
              "    </tr>\n",
              "    <tr>\n",
              "      <th>394</th>\n",
              "      <td>398</td>\n",
              "      <td>12</td>\n",
              "      <td>80</td>\n",
              "      <td>1.020</td>\n",
              "      <td>0</td>\n",
              "      <td>0</td>\n",
              "      <td>normal</td>\n",
              "      <td>normal</td>\n",
              "      <td>notpresent</td>\n",
              "      <td>notpresent</td>\n",
              "      <td>...</td>\n",
              "      <td>49</td>\n",
              "      <td>6600</td>\n",
              "      <td>5.4</td>\n",
              "      <td>no</td>\n",
              "      <td>no</td>\n",
              "      <td>no</td>\n",
              "      <td>good</td>\n",
              "      <td>no</td>\n",
              "      <td>no</td>\n",
              "      <td>notckd</td>\n",
              "    </tr>\n",
              "    <tr>\n",
              "      <th>395</th>\n",
              "      <td>399</td>\n",
              "      <td>17</td>\n",
              "      <td>60</td>\n",
              "      <td>1.025</td>\n",
              "      <td>0</td>\n",
              "      <td>0</td>\n",
              "      <td>normal</td>\n",
              "      <td>normal</td>\n",
              "      <td>notpresent</td>\n",
              "      <td>notpresent</td>\n",
              "      <td>...</td>\n",
              "      <td>51</td>\n",
              "      <td>7200</td>\n",
              "      <td>5.9</td>\n",
              "      <td>no</td>\n",
              "      <td>no</td>\n",
              "      <td>no</td>\n",
              "      <td>good</td>\n",
              "      <td>no</td>\n",
              "      <td>no</td>\n",
              "      <td>notckd</td>\n",
              "    </tr>\n",
              "    <tr>\n",
              "      <th>396</th>\n",
              "      <td>400</td>\n",
              "      <td>58</td>\n",
              "      <td>80</td>\n",
              "      <td>1.025</td>\n",
              "      <td>0</td>\n",
              "      <td>0</td>\n",
              "      <td>normal</td>\n",
              "      <td>normal</td>\n",
              "      <td>notpresent</td>\n",
              "      <td>notpresent</td>\n",
              "      <td>...</td>\n",
              "      <td>53</td>\n",
              "      <td>6800</td>\n",
              "      <td>6.1</td>\n",
              "      <td>no</td>\n",
              "      <td>no</td>\n",
              "      <td>no</td>\n",
              "      <td>good</td>\n",
              "      <td>no</td>\n",
              "      <td>no</td>\n",
              "      <td>notckd</td>\n",
              "    </tr>\n",
              "  </tbody>\n",
              "</table>\n",
              "<p>397 rows × 26 columns</p>\n",
              "</div>\n",
              "      <button class=\"colab-df-convert\" onclick=\"convertToInteractive('df-0b545b36-4351-44d5-a702-7c546737eb9e')\"\n",
              "              title=\"Convert this dataframe to an interactive table.\"\n",
              "              style=\"display:none;\">\n",
              "        \n",
              "  <svg xmlns=\"http://www.w3.org/2000/svg\" height=\"24px\"viewBox=\"0 0 24 24\"\n",
              "       width=\"24px\">\n",
              "    <path d=\"M0 0h24v24H0V0z\" fill=\"none\"/>\n",
              "    <path d=\"M18.56 5.44l.94 2.06.94-2.06 2.06-.94-2.06-.94-.94-2.06-.94 2.06-2.06.94zm-11 1L8.5 8.5l.94-2.06 2.06-.94-2.06-.94L8.5 2.5l-.94 2.06-2.06.94zm10 10l.94 2.06.94-2.06 2.06-.94-2.06-.94-.94-2.06-.94 2.06-2.06.94z\"/><path d=\"M17.41 7.96l-1.37-1.37c-.4-.4-.92-.59-1.43-.59-.52 0-1.04.2-1.43.59L10.3 9.45l-7.72 7.72c-.78.78-.78 2.05 0 2.83L4 21.41c.39.39.9.59 1.41.59.51 0 1.02-.2 1.41-.59l7.78-7.78 2.81-2.81c.8-.78.8-2.07 0-2.86zM5.41 20L4 18.59l7.72-7.72 1.47 1.35L5.41 20z\"/>\n",
              "  </svg>\n",
              "      </button>\n",
              "      \n",
              "  <style>\n",
              "    .colab-df-container {\n",
              "      display:flex;\n",
              "      flex-wrap:wrap;\n",
              "      gap: 12px;\n",
              "    }\n",
              "\n",
              "    .colab-df-convert {\n",
              "      background-color: #E8F0FE;\n",
              "      border: none;\n",
              "      border-radius: 50%;\n",
              "      cursor: pointer;\n",
              "      display: none;\n",
              "      fill: #1967D2;\n",
              "      height: 32px;\n",
              "      padding: 0 0 0 0;\n",
              "      width: 32px;\n",
              "    }\n",
              "\n",
              "    .colab-df-convert:hover {\n",
              "      background-color: #E2EBFA;\n",
              "      box-shadow: 0px 1px 2px rgba(60, 64, 67, 0.3), 0px 1px 3px 1px rgba(60, 64, 67, 0.15);\n",
              "      fill: #174EA6;\n",
              "    }\n",
              "\n",
              "    [theme=dark] .colab-df-convert {\n",
              "      background-color: #3B4455;\n",
              "      fill: #D2E3FC;\n",
              "    }\n",
              "\n",
              "    [theme=dark] .colab-df-convert:hover {\n",
              "      background-color: #434B5C;\n",
              "      box-shadow: 0px 1px 3px 1px rgba(0, 0, 0, 0.15);\n",
              "      filter: drop-shadow(0px 1px 2px rgba(0, 0, 0, 0.3));\n",
              "      fill: #FFFFFF;\n",
              "    }\n",
              "  </style>\n",
              "\n",
              "      <script>\n",
              "        const buttonEl =\n",
              "          document.querySelector('#df-0b545b36-4351-44d5-a702-7c546737eb9e button.colab-df-convert');\n",
              "        buttonEl.style.display =\n",
              "          google.colab.kernel.accessAllowed ? 'block' : 'none';\n",
              "\n",
              "        async function convertToInteractive(key) {\n",
              "          const element = document.querySelector('#df-0b545b36-4351-44d5-a702-7c546737eb9e');\n",
              "          const dataTable =\n",
              "            await google.colab.kernel.invokeFunction('convertToInteractive',\n",
              "                                                     [key], {});\n",
              "          if (!dataTable) return;\n",
              "\n",
              "          const docLinkHtml = 'Like what you see? Visit the ' +\n",
              "            '<a target=\"_blank\" href=https://colab.research.google.com/notebooks/data_table.ipynb>data table notebook</a>'\n",
              "            + ' to learn more about interactive tables.';\n",
              "          element.innerHTML = '';\n",
              "          dataTable['output_type'] = 'display_data';\n",
              "          await google.colab.output.renderOutput(dataTable, element);\n",
              "          const docLink = document.createElement('div');\n",
              "          docLink.innerHTML = docLinkHtml;\n",
              "          element.appendChild(docLink);\n",
              "        }\n",
              "      </script>\n",
              "    </div>\n",
              "  </div>\n",
              "  "
            ]
          },
          "metadata": {},
          "execution_count": 64
        }
      ]
    },
    {
      "cell_type": "code",
      "source": [
        "df.isna().sum()"
      ],
      "metadata": {
        "colab": {
          "base_uri": "https://localhost:8080/"
        },
        "id": "jr9sdRQQy_nB",
        "outputId": "614e036b-b42e-4bc8-a9f8-c24317296174"
      },
      "execution_count": 65,
      "outputs": [
        {
          "output_type": "execute_result",
          "data": {
            "text/plain": [
              "id           0\n",
              "'age'        9\n",
              "'bp'        12\n",
              "'sg'        47\n",
              "'al'        46\n",
              "'su'        49\n",
              "'rbc'      150\n",
              "'pc'        65\n",
              "'pcc'        4\n",
              "'ba'         4\n",
              "'bgr'       43\n",
              "'bu'        19\n",
              "'sc'        17\n",
              "'sod'       85\n",
              "'pot'       86\n",
              "'hemo'      52\n",
              "'pcv'       70\n",
              "'wbcc'     105\n",
              "'rbcc'     130\n",
              "'htn'        2\n",
              "'dm'         2\n",
              "'cad'        2\n",
              "'appet'      1\n",
              "'pe'         1\n",
              "'ane'        1\n",
              "'class'      0\n",
              "dtype: int64"
            ]
          },
          "metadata": {},
          "execution_count": 65
        }
      ]
    },
    {
      "cell_type": "code",
      "source": [
        "df[\"'class'\"].value_counts()"
      ],
      "metadata": {
        "colab": {
          "base_uri": "https://localhost:8080/"
        },
        "id": "47EJKRDkq6OG",
        "outputId": "80041b3e-54e2-442e-a1ff-2cf0a9fd89ac"
      },
      "execution_count": 66,
      "outputs": [
        {
          "output_type": "execute_result",
          "data": {
            "text/plain": [
              "ckd       248\n",
              "notckd    149\n",
              "Name: 'class', dtype: int64"
            ]
          },
          "metadata": {},
          "execution_count": 66
        }
      ]
    },
    {
      "cell_type": "markdown",
      "source": [
        "Lets check null values in form of a graph first"
      ],
      "metadata": {
        "id": "4zRHw0a_1UH5"
      }
    },
    {
      "cell_type": "code",
      "source": [
        "d = ((df.isnull().sum()/df.shape[0])).sort_values(ascending=False)\n",
        "style.use('seaborn-darkgrid')\n",
        "d.plot(kind = 'bar',\n",
        "       color = sns.cubehelix_palette(start=2,\n",
        "                                    rot=0.15,\n",
        "                                    dark=0.15,\n",
        "                                    light=0.95,\n",
        "                                    reverse=True,\n",
        "                                    n_colors=24),\n",
        "        figsize=(20,10))\n",
        "plt.title(\"\\nProportions of Missing Values:\\n\",fontsize=40)\n",
        "plt.show()"
      ],
      "metadata": {
        "colab": {
          "base_uri": "https://localhost:8080/",
          "height": 752
        },
        "id": "IK0mGKUR0och",
        "outputId": "1a74e5e2-148d-4f2f-a01b-626d361faa5b"
      },
      "execution_count": 67,
      "outputs": [
        {
          "output_type": "display_data",
          "data": {
            "text/plain": [
              "<Figure size 1440x720 with 1 Axes>"
            ],
            "image/png": "[encoded data removed]"
          },
          "metadata": {}
        }
      ]
    },
    {
      "cell_type": "markdown",
      "source": [
        "# Data imputation"
      ],
      "metadata": {
        "id": "6pwCzKD1DrOp"
      }
    },
    {
      "cell_type": "code",
      "source": [
        "sns.distplot(df[\"'age'\"])"
      ],
      "metadata": {
        "colab": {
          "base_uri": "https://localhost:8080/",
          "height": 348
        },
        "id": "xey1lbwe2w5e",
        "outputId": "2425dbb3-bbad-40dd-9352-c91ed7534738"
      },
      "execution_count": 68,
      "outputs": [
        {
          "output_type": "stream",
          "name": "stderr",
          "text": [
            "/usr/local/lib/python3.7/dist-packages/seaborn/distributions.py:2619: FutureWarning: `distplot` is a deprecated function and will be removed in a future version. Please adapt your code to use either `displot` (a figure-level function with similar flexibility) or `histplot` (an axes-level function for histograms).\n",
            "  warnings.warn(msg, FutureWarning)\n"
          ]
        },
        {
          "output_type": "execute_result",
          "data": {
            "text/plain": [
              "<matplotlib.axes._subplots.AxesSubplot at 0x7f63b8643610>"
            ]
          },
          "metadata": {},
          "execution_count": 68
        },
        {
          "output_type": "display_data",
          "data": {
            "text/plain": [
              "<Figure size 432x288 with 1 Axes>"
            ],
            "image/png": "[encoded data removed]"
          },
          "metadata": {}
        }
      ]
    },
    {
      "cell_type": "markdown",
      "source": [
        " data seems asymmetrical we will replace age null values with median"
      ],
      "metadata": {
        "id": "50GJHOr12-Da"
      }
    },
    {
      "cell_type": "code",
      "source": [
        "df[\"'age'\"] = df[\"'age'\"].replace(np.NaN, df[\"'age'\"].median())"
      ],
      "metadata": {
        "id": "S62GCUk_23sm"
      },
      "execution_count": 69,
      "outputs": []
    },
    {
      "cell_type": "code",
      "source": [
        "df[\"'bp'\"] = df[\"'bp'\"].replace(np.NaN, df[\"'bp'\"].mode()[0])"
      ],
      "metadata": {
        "id": "eDwrCQz63TuB"
      },
      "execution_count": 70,
      "outputs": []
    },
    {
      "cell_type": "code",
      "source": [
        "  df[\"'sg'\"] = df[\"'sg'\"].replace(np.NaN, df[\"'sg'\"].mode()[0])"
      ],
      "metadata": {
        "id": "U3ZK6vLd4lOK"
      },
      "execution_count": 71,
      "outputs": []
    },
    {
      "cell_type": "code",
      "source": [
        "df[\"'al'\"] = df[\"'al'\"].replace(np.NaN, df[\"'al'\"].mode()[0])"
      ],
      "metadata": {
        "id": "Pw61FJc-4sBt"
      },
      "execution_count": 72,
      "outputs": []
    },
    {
      "cell_type": "code",
      "source": [
        "df[\"'rbc'\"] = df[\"'rbc'\"].replace(np.NaN, df[\"'rbc'\"].mode()[0])"
      ],
      "metadata": {
        "id": "SYxMPUwe5EBV"
      },
      "execution_count": 73,
      "outputs": []
    },
    {
      "cell_type": "code",
      "source": [
        "df[\"'pc'\"]= df[\"'pc'\"].replace(np.NaN, df[\"'pc'\"].mode()[0])"
      ],
      "metadata": {
        "id": "KdJ4YYlp5VbK"
      },
      "execution_count": 74,
      "outputs": []
    },
    {
      "cell_type": "code",
      "source": [
        "df[\"'pcc'\"]= df[\"'pcc'\"].replace(np.NaN, df[\"'pcc'\"].mode()[0])"
      ],
      "metadata": {
        "id": "pTLr2oFJ5hfD"
      },
      "execution_count": 75,
      "outputs": []
    },
    {
      "cell_type": "code",
      "source": [
        "df[\"'ba'\"] = df[\"'ba'\"].replace(np.NaN, df[\"'ba'\"].mode()[0])"
      ],
      "metadata": {
        "id": "IGIR1guT5nog"
      },
      "execution_count": 76,
      "outputs": []
    },
    {
      "cell_type": "code",
      "source": [
        "sns.distplot(df[\"'bgr'\"])"
      ],
      "metadata": {
        "colab": {
          "base_uri": "https://localhost:8080/",
          "height": 348
        },
        "id": "DnnvbmOE55Ux",
        "outputId": "4e858307-0225-42a6-a72f-dab3bc22479a"
      },
      "execution_count": 77,
      "outputs": [
        {
          "output_type": "stream",
          "name": "stderr",
          "text": [
            "/usr/local/lib/python3.7/dist-packages/seaborn/distributions.py:2619: FutureWarning: `distplot` is a deprecated function and will be removed in a future version. Please adapt your code to use either `displot` (a figure-level function with similar flexibility) or `histplot` (an axes-level function for histograms).\n",
            "  warnings.warn(msg, FutureWarning)\n"
          ]
        },
        {
          "output_type": "execute_result",
          "data": {
            "text/plain": [
              "<matplotlib.axes._subplots.AxesSubplot at 0x7f63b85886d0>"
            ]
          },
          "metadata": {},
          "execution_count": 77
        },
        {
          "output_type": "display_data",
          "data": {
            "text/plain": [
              "<Figure size 432x288 with 1 Axes>"
            ],
            "image/png": "[encoded data removed]"
          },
          "metadata": {}
        }
      ]
    },
    {
      "cell_type": "code",
      "source": [
        "df[\"'bgr'\"] = df[\"'bgr'\"].replace(np.NaN, df[\"'bgr'\"].median())"
      ],
      "metadata": {
        "id": "WoYFreOW6D6H"
      },
      "execution_count": 78,
      "outputs": []
    },
    {
      "cell_type": "code",
      "source": [
        "sns.distplot(df[\"'bu'\"])"
      ],
      "metadata": {
        "colab": {
          "base_uri": "https://localhost:8080/",
          "height": 348
        },
        "id": "OC4pyozv6Q8p",
        "outputId": "7dd1439e-8353-4e77-95e6-d35ea9d89431"
      },
      "execution_count": 79,
      "outputs": [
        {
          "output_type": "stream",
          "name": "stderr",
          "text": [
            "/usr/local/lib/python3.7/dist-packages/seaborn/distributions.py:2619: FutureWarning: `distplot` is a deprecated function and will be removed in a future version. Please adapt your code to use either `displot` (a figure-level function with similar flexibility) or `histplot` (an axes-level function for histograms).\n",
            "  warnings.warn(msg, FutureWarning)\n"
          ]
        },
        {
          "output_type": "execute_result",
          "data": {
            "text/plain": [
              "<matplotlib.axes._subplots.AxesSubplot at 0x7f63b84ba6d0>"
            ]
          },
          "metadata": {},
          "execution_count": 79
        },
        {
          "output_type": "display_data",
          "data": {
            "text/plain": [
              "<Figure size 432x288 with 1 Axes>"
            ],
            "image/png": "[encoded data removed]"
          },
          "metadata": {}
        }
      ]
    },
    {
      "cell_type": "code",
      "source": [
        "df[\"'bu'\"] = df[\"'bu'\"].replace(np.NaN, df[\"'bu'\"].median())"
      ],
      "metadata": {
        "id": "lWLjK_Wg6XrH"
      },
      "execution_count": 80,
      "outputs": []
    },
    {
      "cell_type": "code",
      "source": [
        "sns.distplot(df[\"'sc'\"])"
      ],
      "metadata": {
        "colab": {
          "base_uri": "https://localhost:8080/",
          "height": 348
        },
        "id": "ytrukHFP6gt1",
        "outputId": "d817a5a0-0db3-4517-8d90-8965007b0534"
      },
      "execution_count": 81,
      "outputs": [
        {
          "output_type": "stream",
          "name": "stderr",
          "text": [
            "/usr/local/lib/python3.7/dist-packages/seaborn/distributions.py:2619: FutureWarning: `distplot` is a deprecated function and will be removed in a future version. Please adapt your code to use either `displot` (a figure-level function with similar flexibility) or `histplot` (an axes-level function for histograms).\n",
            "  warnings.warn(msg, FutureWarning)\n"
          ]
        },
        {
          "output_type": "execute_result",
          "data": {
            "text/plain": [
              "<matplotlib.axes._subplots.AxesSubplot at 0x7f63b83a3790>"
            ]
          },
          "metadata": {},
          "execution_count": 81
        },
        {
          "output_type": "display_data",
          "data": {
            "text/plain": [
              "<Figure size 432x288 with 1 Axes>"
            ],
            "image/png": "[encoded data removed]"
          },
          "metadata": {}
        }
      ]
    },
    {
      "cell_type": "code",
      "source": [
        "df[\"'sc'\"] = df[\"'sc'\"].replace(np.NaN, df[\"'sc'\"].median())"
      ],
      "metadata": {
        "id": "VDVjzKDa6mfQ"
      },
      "execution_count": 82,
      "outputs": []
    },
    {
      "cell_type": "code",
      "source": [
        "sns.distplot(df[\"'sod'\"])"
      ],
      "metadata": {
        "colab": {
          "base_uri": "https://localhost:8080/",
          "height": 350
        },
        "id": "fpOJp4oZ6ymW",
        "outputId": "5f5eddf4-50fb-434c-96a6-e3f7f5b80956"
      },
      "execution_count": 83,
      "outputs": [
        {
          "output_type": "stream",
          "name": "stderr",
          "text": [
            "/usr/local/lib/python3.7/dist-packages/seaborn/distributions.py:2619: FutureWarning: `distplot` is a deprecated function and will be removed in a future version. Please adapt your code to use either `displot` (a figure-level function with similar flexibility) or `histplot` (an axes-level function for histograms).\n",
            "  warnings.warn(msg, FutureWarning)\n"
          ]
        },
        {
          "output_type": "execute_result",
          "data": {
            "text/plain": [
              "<matplotlib.axes._subplots.AxesSubplot at 0x7f63b834ca90>"
            ]
          },
          "metadata": {},
          "execution_count": 83
        },
        {
          "output_type": "display_data",
          "data": {
            "text/plain": [
              "<Figure size 432x288 with 1 Axes>"
            ],
            "image/png": "[encoded data removed]"
          },
          "metadata": {}
        }
      ]
    },
    {
      "cell_type": "code",
      "source": [
        "df[\"'sod'\"] = df[\"'sod'\"].replace(np.NaN, df[\"'sod'\"].median())"
      ],
      "metadata": {
        "id": "jQr1iKJO61lY"
      },
      "execution_count": 84,
      "outputs": []
    },
    {
      "cell_type": "code",
      "source": [
        "sns.distplot(df[\"'pot'\"])"
      ],
      "metadata": {
        "colab": {
          "base_uri": "https://localhost:8080/",
          "height": 348
        },
        "id": "60F-wfPX7IZA",
        "outputId": "491efa13-da77-49f5-9fbc-504d1c9c4544"
      },
      "execution_count": 85,
      "outputs": [
        {
          "output_type": "stream",
          "name": "stderr",
          "text": [
            "/usr/local/lib/python3.7/dist-packages/seaborn/distributions.py:2619: FutureWarning: `distplot` is a deprecated function and will be removed in a future version. Please adapt your code to use either `displot` (a figure-level function with similar flexibility) or `histplot` (an axes-level function for histograms).\n",
            "  warnings.warn(msg, FutureWarning)\n"
          ]
        },
        {
          "output_type": "execute_result",
          "data": {
            "text/plain": [
              "<matplotlib.axes._subplots.AxesSubplot at 0x7f63b8575990>"
            ]
          },
          "metadata": {},
          "execution_count": 85
        },
        {
          "output_type": "display_data",
          "data": {
            "text/plain": [
              "<Figure size 432x288 with 1 Axes>"
            ],
            "image/png": "[encoded data removed]"
          },
          "metadata": {}
        }
      ]
    },
    {
      "cell_type": "code",
      "source": [
        "df[\"'pot'\"] = df[\"'pot'\"].replace(np.NaN, df[\"'pot'\"].median())"
      ],
      "metadata": {
        "id": "alAYN3HJ7OOt"
      },
      "execution_count": 86,
      "outputs": []
    },
    {
      "cell_type": "code",
      "source": [
        "sns.distplot(df[\"'hemo'\"])"
      ],
      "metadata": {
        "colab": {
          "base_uri": "https://localhost:8080/",
          "height": 348
        },
        "id": "BkbySTar7rEf",
        "outputId": "af89d7c1-1b51-40ee-872f-f9d598d407b5"
      },
      "execution_count": 87,
      "outputs": [
        {
          "output_type": "stream",
          "name": "stderr",
          "text": [
            "/usr/local/lib/python3.7/dist-packages/seaborn/distributions.py:2619: FutureWarning: `distplot` is a deprecated function and will be removed in a future version. Please adapt your code to use either `displot` (a figure-level function with similar flexibility) or `histplot` (an axes-level function for histograms).\n",
            "  warnings.warn(msg, FutureWarning)\n"
          ]
        },
        {
          "output_type": "execute_result",
          "data": {
            "text/plain": [
              "<matplotlib.axes._subplots.AxesSubplot at 0x7f63b854ab90>"
            ]
          },
          "metadata": {},
          "execution_count": 87
        },
        {
          "output_type": "display_data",
          "data": {
            "text/plain": [
              "<Figure size 432x288 with 1 Axes>"
            ],
            "image/png": "[encoded data removed]"
          },
          "metadata": {}
        }
      ]
    },
    {
      "cell_type": "code",
      "source": [
        "df[\"'hemo'\"]= df[\"'hemo'\"].replace(np.NaN, df[\"'hemo'\"].median())\n"
      ],
      "metadata": {
        "id": "1eDYmBPT8VLq"
      },
      "execution_count": 88,
      "outputs": []
    },
    {
      "cell_type": "code",
      "source": [
        "sns.distplot(df[\"'pcv'\"])"
      ],
      "metadata": {
        "colab": {
          "base_uri": "https://localhost:8080/",
          "height": 348
        },
        "id": "9xr62RVH91Ke",
        "outputId": "309ec14f-8918-46fb-d5a7-0029c813bec1"
      },
      "execution_count": 89,
      "outputs": [
        {
          "output_type": "stream",
          "name": "stderr",
          "text": [
            "/usr/local/lib/python3.7/dist-packages/seaborn/distributions.py:2619: FutureWarning: `distplot` is a deprecated function and will be removed in a future version. Please adapt your code to use either `displot` (a figure-level function with similar flexibility) or `histplot` (an axes-level function for histograms).\n",
            "  warnings.warn(msg, FutureWarning)\n"
          ]
        },
        {
          "output_type": "execute_result",
          "data": {
            "text/plain": [
              "<matplotlib.axes._subplots.AxesSubplot at 0x7f63b86d5490>"
            ]
          },
          "metadata": {},
          "execution_count": 89
        },
        {
          "output_type": "display_data",
          "data": {
            "text/plain": [
              "<Figure size 432x288 with 1 Axes>"
            ],
            "image/png": "[encoded data removed]"
          },
          "metadata": {}
        }
      ]
    },
    {
      "cell_type": "code",
      "source": [
        "df[\"'pcv'\"]= df[\"'pcv'\"].replace(np.NaN,df[\"'pcv'\"].median())"
      ],
      "metadata": {
        "id": "iOAok_sX8trP"
      },
      "execution_count": 90,
      "outputs": []
    },
    {
      "cell_type": "code",
      "source": [
        "sns.distplot(df[\"'wbcc'\"])"
      ],
      "metadata": {
        "colab": {
          "base_uri": "https://localhost:8080/",
          "height": 351
        },
        "id": "WhGAIu-L-FVa",
        "outputId": "584e4c70-4dcb-4e7a-b3d5-d42ab24ee1b7"
      },
      "execution_count": 91,
      "outputs": [
        {
          "output_type": "stream",
          "name": "stderr",
          "text": [
            "/usr/local/lib/python3.7/dist-packages/seaborn/distributions.py:2619: FutureWarning: `distplot` is a deprecated function and will be removed in a future version. Please adapt your code to use either `displot` (a figure-level function with similar flexibility) or `histplot` (an axes-level function for histograms).\n",
            "  warnings.warn(msg, FutureWarning)\n"
          ]
        },
        {
          "output_type": "execute_result",
          "data": {
            "text/plain": [
              "<matplotlib.axes._subplots.AxesSubplot at 0x7f63b80cf910>"
            ]
          },
          "metadata": {},
          "execution_count": 91
        },
        {
          "output_type": "display_data",
          "data": {
            "text/plain": [
              "<Figure size 432x288 with 1 Axes>"
            ],
            "image/png": "[encoded data removed]"
          },
          "metadata": {}
        }
      ]
    },
    {
      "cell_type": "code",
      "source": [
        "df[\"'wbcc'\"]= df[\"'wbcc'\"].replace(np.NaN, df[\"'wbcc'\"].median())"
      ],
      "metadata": {
        "id": "mPB4oq-H-hfY"
      },
      "execution_count": 92,
      "outputs": []
    },
    {
      "cell_type": "code",
      "source": [
        "df[\"'rbcc'\"] = df[\"'rbcc'\"].replace(np.NaN, df[\"'rbcc'\"].median())"
      ],
      "metadata": {
        "id": "niRJ1Kqf-KB9"
      },
      "execution_count": 93,
      "outputs": []
    },
    {
      "cell_type": "code",
      "source": [
        "df[\"'htn'\"] = df[\"'htn'\"].replace(np.NaN, df[\"'htn'\"].mode()[0])"
      ],
      "metadata": {
        "id": "3pDHl7eY-1-U"
      },
      "execution_count": 94,
      "outputs": []
    },
    {
      "cell_type": "code",
      "source": [
        "df[\"'dm'\"] = df[\"'dm'\"].replace(np.NaN, df[\"'dm'\"].mode()[0])"
      ],
      "metadata": {
        "id": "E-KEx5c1-_lU"
      },
      "execution_count": 95,
      "outputs": []
    },
    {
      "cell_type": "code",
      "source": [
        "df[\"'cad'\"] = df[\"'cad'\"].replace(np.NaN, df[\"'cad'\"].mode()[0])"
      ],
      "metadata": {
        "id": "OLpcV20E_EUn"
      },
      "execution_count": 96,
      "outputs": []
    },
    {
      "cell_type": "code",
      "source": [
        "df[\"'appet'\"] = df[\"'appet'\"].replace(np.NaN, df[\"'appet'\"].mode()[0])"
      ],
      "metadata": {
        "id": "wDQVSYEd_HuY"
      },
      "execution_count": 97,
      "outputs": []
    },
    {
      "cell_type": "code",
      "source": [
        "df[\"'pe'\"] = df[\"'pe'\"].replace(np.NaN, df[\"'pe'\"].mode()[0])"
      ],
      "metadata": {
        "id": "zKE5fMsfAS8v"
      },
      "execution_count": 98,
      "outputs": []
    },
    {
      "cell_type": "code",
      "source": [
        "df[\"'ane'\"] = df[\"'ane'\"].replace(np.NaN, df[\"'ane'\"].mode()[0])"
      ],
      "metadata": {
        "id": "ePNce5F0Aqk8"
      },
      "execution_count": 99,
      "outputs": []
    },
    {
      "cell_type": "code",
      "source": [
        "df[\"'class'\"] = df[\"'class'\"].replace(np.NaN, df[\"'class'\"].mode()[0])"
      ],
      "metadata": {
        "id": "aW6-6KJuAvFw"
      },
      "execution_count": 100,
      "outputs": []
    },
    {
      "cell_type": "code",
      "source": [
        "df[\"'su'\"] = df[\"'su'\"].replace(np.NaN, df[\"'su'\"].mode()[0])"
      ],
      "metadata": {
        "id": "Y_pk6YnUBQxt"
      },
      "execution_count": 101,
      "outputs": []
    },
    {
      "cell_type": "markdown",
      "source": [
        "we replace the null value with the mode for categorical attributes and with the median for numerical ones."
      ],
      "metadata": {
        "id": "JT6B7o7sA11-"
      }
    },
    {
      "cell_type": "markdown",
      "source": [
        "verification"
      ],
      "metadata": {
        "id": "B4TG4GbkBAYZ"
      }
    },
    {
      "cell_type": "code",
      "source": [
        "df.isnull().sum()"
      ],
      "metadata": {
        "colab": {
          "base_uri": "https://localhost:8080/"
        },
        "id": "MdMsFA1-A0IE",
        "outputId": "054c9b72-6c47-4ada-e2a5-760f4847e0d7"
      },
      "execution_count": 102,
      "outputs": [
        {
          "output_type": "execute_result",
          "data": {
            "text/plain": [
              "id         0\n",
              "'age'      0\n",
              "'bp'       0\n",
              "'sg'       0\n",
              "'al'       0\n",
              "'su'       0\n",
              "'rbc'      0\n",
              "'pc'       0\n",
              "'pcc'      0\n",
              "'ba'       0\n",
              "'bgr'      0\n",
              "'bu'       0\n",
              "'sc'       0\n",
              "'sod'      0\n",
              "'pot'      0\n",
              "'hemo'     0\n",
              "'pcv'      0\n",
              "'wbcc'     0\n",
              "'rbcc'     0\n",
              "'htn'      0\n",
              "'dm'       0\n",
              "'cad'      0\n",
              "'appet'    0\n",
              "'pe'       0\n",
              "'ane'      0\n",
              "'class'    0\n",
              "dtype: int64"
            ]
          },
          "metadata": {},
          "execution_count": 102
        }
      ]
    },
    {
      "cell_type": "code",
      "source": [
        "df.dtypes"
      ],
      "metadata": {
        "colab": {
          "base_uri": "https://localhost:8080/"
        },
        "id": "c_0BoaJiBc9x",
        "outputId": "e6837cd5-4c7c-4e65-f634-4f6945efb3fb"
      },
      "execution_count": 103,
      "outputs": [
        {
          "output_type": "execute_result",
          "data": {
            "text/plain": [
              "id          int64\n",
              "'age'      object\n",
              "'bp'       object\n",
              "'sg'       object\n",
              "'al'       object\n",
              "'su'       object\n",
              "'rbc'      object\n",
              "'pc'       object\n",
              "'pcc'      object\n",
              "'ba'       object\n",
              "'bgr'      object\n",
              "'bu'       object\n",
              "'sc'       object\n",
              "'sod'      object\n",
              "'pot'      object\n",
              "'hemo'     object\n",
              "'pcv'      object\n",
              "'wbcc'     object\n",
              "'rbcc'     object\n",
              "'htn'      object\n",
              "'dm'       object\n",
              "'cad'      object\n",
              "'appet'    object\n",
              "'pe'       object\n",
              "'ane'      object\n",
              "'class'    object\n",
              "dtype: object"
            ]
          },
          "metadata": {},
          "execution_count": 103
        }
      ]
    },
    {
      "cell_type": "markdown",
      "source": [
        "all attributes are of type object so we need to change it to the their appropriate types"
      ],
      "metadata": {
        "id": "Vj09XgxyBh2L"
      }
    },
    {
      "cell_type": "markdown",
      "source": [
        "pcv, wc, and rc column should have dtype of float as it contains all integer"
      ],
      "metadata": {
        "id": "pv4ANQcxBznd"
      }
    },
    {
      "cell_type": "code",
      "source": [
        "df[[\"'rbcc'\",\"'bp'\",\"'sg'\",\"'al'\",\"'bgr'\",\"'bu'\",\"'sc'\",\"'sod'\",\"'pot'\",\"'su'\",\"'hemo'\"]] = df[[\"'rbcc'\",\"'bp'\",\"'sg'\",\"'al'\",\"'bgr'\",\"'bu'\",\"'sc'\",\"'sod'\",\"'pot'\",\"'su'\",\"'hemo'\"]].astype('float64')\n",
        "df[[\"'pcv'\", \"'wbcc'\", \"'age'\"]] = df[[\"'pcv'\", \"'wbcc'\", \"'age'\"]].astype('int64')\n",
        "df.dtypes"
      ],
      "metadata": {
        "colab": {
          "base_uri": "https://localhost:8080/"
        },
        "id": "3D8SC0oeBdEi",
        "outputId": "9dd10ba0-db32-4155-edf7-7f1b81f14e77"
      },
      "execution_count": 104,
      "outputs": [
        {
          "output_type": "execute_result",
          "data": {
            "text/plain": [
              "id           int64\n",
              "'age'        int64\n",
              "'bp'       float64\n",
              "'sg'       float64\n",
              "'al'       float64\n",
              "'su'       float64\n",
              "'rbc'       object\n",
              "'pc'        object\n",
              "'pcc'       object\n",
              "'ba'        object\n",
              "'bgr'      float64\n",
              "'bu'       float64\n",
              "'sc'       float64\n",
              "'sod'      float64\n",
              "'pot'      float64\n",
              "'hemo'     float64\n",
              "'pcv'        int64\n",
              "'wbcc'       int64\n",
              "'rbcc'     float64\n",
              "'htn'       object\n",
              "'dm'        object\n",
              "'cad'       object\n",
              "'appet'     object\n",
              "'pe'        object\n",
              "'ane'       object\n",
              "'class'     object\n",
              "dtype: object"
            ]
          },
          "metadata": {},
          "execution_count": 104
        }
      ]
    },
    {
      "cell_type": "markdown",
      "source": [
        "Dropping unnecessary columns"
      ],
      "metadata": {
        "id": "NfecpJNaCQuz"
      }
    },
    {
      "cell_type": "code",
      "source": [
        "df.drop('id',axis=1,inplace=True)\n",
        "df.head()"
      ],
      "metadata": {
        "colab": {
          "base_uri": "https://localhost:8080/",
          "height": 300
        },
        "id": "BDlccz_tCJe-",
        "outputId": "ddf9fb8a-afff-45c1-b65a-c55757ccafbe"
      },
      "execution_count": 105,
      "outputs": [
        {
          "output_type": "execute_result",
          "data": {
            "text/plain": [
              "   'age'  'bp'   'sg'  'al'  'su'   'rbc'      'pc'       'pcc'        'ba'  \\\n",
              "0     48  80.0  1.020   1.0   0.0  normal    normal  notpresent  notpresent   \n",
              "1      7  50.0  1.020   4.0   0.0  normal    normal  notpresent  notpresent   \n",
              "2     62  80.0  1.010   2.0   3.0  normal    normal  notpresent  notpresent   \n",
              "3     48  70.0  1.005   4.0   0.0  normal  abnormal     present  notpresent   \n",
              "4     51  80.0  1.010   2.0   0.0  normal    normal  notpresent  notpresent   \n",
              "\n",
              "   'bgr'  ...  'pcv'  'wbcc'  'rbcc'  'htn'  'dm'  'cad'  'appet'  'pe' 'ane'  \\\n",
              "0  121.0  ...     44    7800     5.2    yes   yes     no     good    no    no   \n",
              "1  121.0  ...     38    6000     4.8     no    no     no     good    no    no   \n",
              "2  423.0  ...     31    7500     4.8     no   yes     no     poor    no   yes   \n",
              "3  117.0  ...     32    6700     3.9    yes    no     no     poor   yes   yes   \n",
              "4  106.0  ...     35    7300     4.6     no    no     no     good    no    no   \n",
              "\n",
              "  'class'  \n",
              "0     ckd  \n",
              "1     ckd  \n",
              "2     ckd  \n",
              "3     ckd  \n",
              "4     ckd  \n",
              "\n",
              "[5 rows x 25 columns]"
            ],
            "text/html": [
              "\n",
              "  <div id=\"df-5b97a5a7-3309-45eb-ba97-c9dbfa5d08b7\">\n",
              "    <div class=\"colab-df-container\">\n",
              "      <div>\n",
              "<style scoped>\n",
              "    .dataframe tbody tr th:only-of-type {\n",
              "        vertical-align: middle;\n",
              "    }\n",
              "\n",
              "    .dataframe tbody tr th {\n",
              "        vertical-align: top;\n",
              "    }\n",
              "\n",
              "    .dataframe thead th {\n",
              "        text-align: right;\n",
              "    }\n",
              "</style>\n",
              "<table border=\"1\" class=\"dataframe\">\n",
              "  <thead>\n",
              "    <tr style=\"text-align: right;\">\n",
              "      <th></th>\n",
              "      <th>'age'</th>\n",
              "      <th>'bp'</th>\n",
              "      <th>'sg'</th>\n",
              "      <th>'al'</th>\n",
              "      <th>'su'</th>\n",
              "      <th>'rbc'</th>\n",
              "      <th>'pc'</th>\n",
              "      <th>'pcc'</th>\n",
              "      <th>'ba'</th>\n",
              "      <th>'bgr'</th>\n",
              "      <th>...</th>\n",
              "      <th>'pcv'</th>\n",
              "      <th>'wbcc'</th>\n",
              "      <th>'rbcc'</th>\n",
              "      <th>'htn'</th>\n",
              "      <th>'dm'</th>\n",
              "      <th>'cad'</th>\n",
              "      <th>'appet'</th>\n",
              "      <th>'pe'</th>\n",
              "      <th>'ane'</th>\n",
              "      <th>'class'</th>\n",
              "    </tr>\n",
              "  </thead>\n",
              "  <tbody>\n",
              "    <tr>\n",
              "      <th>0</th>\n",
              "      <td>48</td>\n",
              "      <td>80.0</td>\n",
              "      <td>1.020</td>\n",
              "      <td>1.0</td>\n",
              "      <td>0.0</td>\n",
              "      <td>normal</td>\n",
              "      <td>normal</td>\n",
              "      <td>notpresent</td>\n",
              "      <td>notpresent</td>\n",
              "      <td>121.0</td>\n",
              "      <td>...</td>\n",
              "      <td>44</td>\n",
              "      <td>7800</td>\n",
              "      <td>5.2</td>\n",
              "      <td>yes</td>\n",
              "      <td>yes</td>\n",
              "      <td>no</td>\n",
              "      <td>good</td>\n",
              "      <td>no</td>\n",
              "      <td>no</td>\n",
              "      <td>ckd</td>\n",
              "    </tr>\n",
              "    <tr>\n",
              "      <th>1</th>\n",
              "      <td>7</td>\n",
              "      <td>50.0</td>\n",
              "      <td>1.020</td>\n",
              "      <td>4.0</td>\n",
              "      <td>0.0</td>\n",
              "      <td>normal</td>\n",
              "      <td>normal</td>\n",
              "      <td>notpresent</td>\n",
              "      <td>notpresent</td>\n",
              "      <td>121.0</td>\n",
              "      <td>...</td>\n",
              "      <td>38</td>\n",
              "      <td>6000</td>\n",
              "      <td>4.8</td>\n",
              "      <td>no</td>\n",
              "      <td>no</td>\n",
              "      <td>no</td>\n",
              "      <td>good</td>\n",
              "      <td>no</td>\n",
              "      <td>no</td>\n",
              "      <td>ckd</td>\n",
              "    </tr>\n",
              "    <tr>\n",
              "      <th>2</th>\n",
              "      <td>62</td>\n",
              "      <td>80.0</td>\n",
              "      <td>1.010</td>\n",
              "      <td>2.0</td>\n",
              "      <td>3.0</td>\n",
              "      <td>normal</td>\n",
              "      <td>normal</td>\n",
              "      <td>notpresent</td>\n",
              "      <td>notpresent</td>\n",
              "      <td>423.0</td>\n",
              "      <td>...</td>\n",
              "      <td>31</td>\n",
              "      <td>7500</td>\n",
              "      <td>4.8</td>\n",
              "      <td>no</td>\n",
              "      <td>yes</td>\n",
              "      <td>no</td>\n",
              "      <td>poor</td>\n",
              "      <td>no</td>\n",
              "      <td>yes</td>\n",
              "      <td>ckd</td>\n",
              "    </tr>\n",
              "    <tr>\n",
              "      <th>3</th>\n",
              "      <td>48</td>\n",
              "      <td>70.0</td>\n",
              "      <td>1.005</td>\n",
              "      <td>4.0</td>\n",
              "      <td>0.0</td>\n",
              "      <td>normal</td>\n",
              "      <td>abnormal</td>\n",
              "      <td>present</td>\n",
              "      <td>notpresent</td>\n",
              "      <td>117.0</td>\n",
              "      <td>...</td>\n",
              "      <td>32</td>\n",
              "      <td>6700</td>\n",
              "      <td>3.9</td>\n",
              "      <td>yes</td>\n",
              "      <td>no</td>\n",
              "      <td>no</td>\n",
              "      <td>poor</td>\n",
              "      <td>yes</td>\n",
              "      <td>yes</td>\n",
              "      <td>ckd</td>\n",
              "    </tr>\n",
              "    <tr>\n",
              "      <th>4</th>\n",
              "      <td>51</td>\n",
              "      <td>80.0</td>\n",
              "      <td>1.010</td>\n",
              "      <td>2.0</td>\n",
              "      <td>0.0</td>\n",
              "      <td>normal</td>\n",
              "      <td>normal</td>\n",
              "      <td>notpresent</td>\n",
              "      <td>notpresent</td>\n",
              "      <td>106.0</td>\n",
              "      <td>...</td>\n",
              "      <td>35</td>\n",
              "      <td>7300</td>\n",
              "      <td>4.6</td>\n",
              "      <td>no</td>\n",
              "      <td>no</td>\n",
              "      <td>no</td>\n",
              "      <td>good</td>\n",
              "      <td>no</td>\n",
              "      <td>no</td>\n",
              "      <td>ckd</td>\n",
              "    </tr>\n",
              "  </tbody>\n",
              "</table>\n",
              "<p>5 rows × 25 columns</p>\n",
              "</div>\n",
              "      <button class=\"colab-df-convert\" onclick=\"convertToInteractive('df-5b97a5a7-3309-45eb-ba97-c9dbfa5d08b7')\"\n",
              "              title=\"Convert this dataframe to an interactive table.\"\n",
              "              style=\"display:none;\">\n",
              "        \n",
              "  <svg xmlns=\"http://www.w3.org/2000/svg\" height=\"24px\"viewBox=\"0 0 24 24\"\n",
              "       width=\"24px\">\n",
              "    <path d=\"M0 0h24v24H0V0z\" fill=\"none\"/>\n",
              "    <path d=\"M18.56 5.44l.94 2.06.94-2.06 2.06-.94-2.06-.94-.94-2.06-.94 2.06-2.06.94zm-11 1L8.5 8.5l.94-2.06 2.06-.94-2.06-.94L8.5 2.5l-.94 2.06-2.06.94zm10 10l.94 2.06.94-2.06 2.06-.94-2.06-.94-.94-2.06-.94 2.06-2.06.94z\"/><path d=\"M17.41 7.96l-1.37-1.37c-.4-.4-.92-.59-1.43-.59-.52 0-1.04.2-1.43.59L10.3 9.45l-7.72 7.72c-.78.78-.78 2.05 0 2.83L4 21.41c.39.39.9.59 1.41.59.51 0 1.02-.2 1.41-.59l7.78-7.78 2.81-2.81c.8-.78.8-2.07 0-2.86zM5.41 20L4 18.59l7.72-7.72 1.47 1.35L5.41 20z\"/>\n",
              "  </svg>\n",
              "      </button>\n",
              "      \n",
              "  <style>\n",
              "    .colab-df-container {\n",
              "      display:flex;\n",
              "      flex-wrap:wrap;\n",
              "      gap: 12px;\n",
              "    }\n",
              "\n",
              "    .colab-df-convert {\n",
              "      background-color: #E8F0FE;\n",
              "      border: none;\n",
              "      border-radius: 50%;\n",
              "      cursor: pointer;\n",
              "      display: none;\n",
              "      fill: #1967D2;\n",
              "      height: 32px;\n",
              "      padding: 0 0 0 0;\n",
              "      width: 32px;\n",
              "    }\n",
              "\n",
              "    .colab-df-convert:hover {\n",
              "      background-color: #E2EBFA;\n",
              "      box-shadow: 0px 1px 2px rgba(60, 64, 67, 0.3), 0px 1px 3px 1px rgba(60, 64, 67, 0.15);\n",
              "      fill: #174EA6;\n",
              "    }\n",
              "\n",
              "    [theme=dark] .colab-df-convert {\n",
              "      background-color: #3B4455;\n",
              "      fill: #D2E3FC;\n",
              "    }\n",
              "\n",
              "    [theme=dark] .colab-df-convert:hover {\n",
              "      background-color: #434B5C;\n",
              "      box-shadow: 0px 1px 3px 1px rgba(0, 0, 0, 0.15);\n",
              "      filter: drop-shadow(0px 1px 2px rgba(0, 0, 0, 0.3));\n",
              "      fill: #FFFFFF;\n",
              "    }\n",
              "  </style>\n",
              "\n",
              "      <script>\n",
              "        const buttonEl =\n",
              "          document.querySelector('#df-5b97a5a7-3309-45eb-ba97-c9dbfa5d08b7 button.colab-df-convert');\n",
              "        buttonEl.style.display =\n",
              "          google.colab.kernel.accessAllowed ? 'block' : 'none';\n",
              "\n",
              "        async function convertToInteractive(key) {\n",
              "          const element = document.querySelector('#df-5b97a5a7-3309-45eb-ba97-c9dbfa5d08b7');\n",
              "          const dataTable =\n",
              "            await google.colab.kernel.invokeFunction('convertToInteractive',\n",
              "                                                     [key], {});\n",
              "          if (!dataTable) return;\n",
              "\n",
              "          const docLinkHtml = 'Like what you see? Visit the ' +\n",
              "            '<a target=\"_blank\" href=https://colab.research.google.com/notebooks/data_table.ipynb>data table notebook</a>'\n",
              "            + ' to learn more about interactive tables.';\n",
              "          element.innerHTML = '';\n",
              "          dataTable['output_type'] = 'display_data';\n",
              "          await google.colab.output.renderOutput(dataTable, element);\n",
              "          const docLink = document.createElement('div');\n",
              "          docLink.innerHTML = docLinkHtml;\n",
              "          element.appendChild(docLink);\n",
              "        }\n",
              "      </script>\n",
              "    </div>\n",
              "  </div>\n",
              "  "
            ]
          },
          "metadata": {},
          "execution_count": 105
        }
      ]
    },
    {
      "cell_type": "code",
      "source": [
        "\n",
        "sns.countplot(x = \"'class'\", data = df)"
      ],
      "metadata": {
        "colab": {
          "base_uri": "https://localhost:8080/",
          "height": 293
        },
        "id": "jQILYYJpCeTK",
        "outputId": "b6504615-0250-4bf4-b996-48dc25c341f8"
      },
      "execution_count": 106,
      "outputs": [
        {
          "output_type": "execute_result",
          "data": {
            "text/plain": [
              "<matplotlib.axes._subplots.AxesSubplot at 0x7f63b7fb5e90>"
            ]
          },
          "metadata": {},
          "execution_count": 106
        },
        {
          "output_type": "display_data",
          "data": {
            "text/plain": [
              "<Figure size 432x288 with 1 Axes>"
            ],
            "image/png": "[encoded data removed]"
          },
          "metadata": {}
        }
      ]
    },
    {
      "cell_type": "markdown",
      "source": [
        "==> unbalanced data "
      ],
      "metadata": {
        "id": "yHMCCRtvHwmt"
      }
    },
    {
      "cell_type": "markdown",
      "source": [
        "Label Encoding"
      ],
      "metadata": {
        "id": "k8PDT4MlI_H9"
      }
    },
    {
      "cell_type": "code",
      "source": [
        "col = [\"'pcc'\",\"'rbc'\", \"'pc'\", \"'ba'\", \"'htn'\", \"'dm'\", \"'cad'\", \"'pe'\", \"'ane'\"]\n",
        "encoder = LabelEncoder()\n",
        "for col in col:\n",
        "    df[col] = encoder.fit_transform(df[col])"
      ],
      "metadata": {
        "id": "MRLTBsN2I8nU"
      },
      "execution_count": 107,
      "outputs": []
    },
    {
      "cell_type": "code",
      "source": [
        "df[[\"'appet'\", \"'class'\"]] = df[[\"'appet'\", \"'class'\"]].replace(to_replace={'good':'1', 'ckd':'1', 'notckd':'0', 'poor':'0'})\n"
      ],
      "metadata": {
        "id": "buaEYBO4c-Ij"
      },
      "execution_count": 108,
      "outputs": []
    },
    {
      "cell_type": "code",
      "source": [
        "df.head(4)"
      ],
      "metadata": {
        "colab": {
          "base_uri": "https://localhost:8080/",
          "height": 268
        },
        "id": "anv6om-3JznC",
        "outputId": "fb46595a-6ddc-4d06-a2f2-d309d6743326"
      },
      "execution_count": 109,
      "outputs": [
        {
          "output_type": "execute_result",
          "data": {
            "text/plain": [
              "   'age'  'bp'   'sg'  'al'  'su'  'rbc'  'pc'  'pcc'  'ba'  'bgr'  ...  \\\n",
              "0     48  80.0  1.020   1.0   0.0      1     1      0     0  121.0  ...   \n",
              "1      7  50.0  1.020   4.0   0.0      1     1      0     0  121.0  ...   \n",
              "2     62  80.0  1.010   2.0   3.0      1     1      0     0  423.0  ...   \n",
              "3     48  70.0  1.005   4.0   0.0      1     0      1     0  117.0  ...   \n",
              "\n",
              "   'pcv'  'wbcc'  'rbcc'  'htn'  'dm'  'cad'  'appet'  'pe'  'ane'  'class'  \n",
              "0     44    7800     5.2      1     1      0        1     0      0        1  \n",
              "1     38    6000     4.8      0     0      0        1     0      0        1  \n",
              "2     31    7500     4.8      0     1      0        0     0      1        1  \n",
              "3     32    6700     3.9      1     0      0        0     1      1        1  \n",
              "\n",
              "[4 rows x 25 columns]"
            ],
            "text/html": [
              "\n",
              "  <div id=\"df-13d8e9d0-4374-46d7-926c-4526e6d57fa1\">\n",
              "    <div class=\"colab-df-container\">\n",
              "      <div>\n",
              "<style scoped>\n",
              "    .dataframe tbody tr th:only-of-type {\n",
              "        vertical-align: middle;\n",
              "    }\n",
              "\n",
              "    .dataframe tbody tr th {\n",
              "        vertical-align: top;\n",
              "    }\n",
              "\n",
              "    .dataframe thead th {\n",
              "        text-align: right;\n",
              "    }\n",
              "</style>\n",
              "<table border=\"1\" class=\"dataframe\">\n",
              "  <thead>\n",
              "    <tr style=\"text-align: right;\">\n",
              "      <th></th>\n",
              "      <th>'age'</th>\n",
              "      <th>'bp'</th>\n",
              "      <th>'sg'</th>\n",
              "      <th>'al'</th>\n",
              "      <th>'su'</th>\n",
              "      <th>'rbc'</th>\n",
              "      <th>'pc'</th>\n",
              "      <th>'pcc'</th>\n",
              "      <th>'ba'</th>\n",
              "      <th>'bgr'</th>\n",
              "      <th>...</th>\n",
              "      <th>'pcv'</th>\n",
              "      <th>'wbcc'</th>\n",
              "      <th>'rbcc'</th>\n",
              "      <th>'htn'</th>\n",
              "      <th>'dm'</th>\n",
              "      <th>'cad'</th>\n",
              "      <th>'appet'</th>\n",
              "      <th>'pe'</th>\n",
              "      <th>'ane'</th>\n",
              "      <th>'class'</th>\n",
              "    </tr>\n",
              "  </thead>\n",
              "  <tbody>\n",
              "    <tr>\n",
              "      <th>0</th>\n",
              "      <td>48</td>\n",
              "      <td>80.0</td>\n",
              "      <td>1.020</td>\n",
              "      <td>1.0</td>\n",
              "      <td>0.0</td>\n",
              "      <td>1</td>\n",
              "      <td>1</td>\n",
              "      <td>0</td>\n",
              "      <td>0</td>\n",
              "      <td>121.0</td>\n",
              "      <td>...</td>\n",
              "      <td>44</td>\n",
              "      <td>7800</td>\n",
              "      <td>5.2</td>\n",
              "      <td>1</td>\n",
              "      <td>1</td>\n",
              "      <td>0</td>\n",
              "      <td>1</td>\n",
              "      <td>0</td>\n",
              "      <td>0</td>\n",
              "      <td>1</td>\n",
              "    </tr>\n",
              "    <tr>\n",
              "      <th>1</th>\n",
              "      <td>7</td>\n",
              "      <td>50.0</td>\n",
              "      <td>1.020</td>\n",
              "      <td>4.0</td>\n",
              "      <td>0.0</td>\n",
              "      <td>1</td>\n",
              "      <td>1</td>\n",
              "      <td>0</td>\n",
              "      <td>0</td>\n",
              "      <td>121.0</td>\n",
              "      <td>...</td>\n",
              "      <td>38</td>\n",
              "      <td>6000</td>\n",
              "      <td>4.8</td>\n",
              "      <td>0</td>\n",
              "      <td>0</td>\n",
              "      <td>0</td>\n",
              "      <td>1</td>\n",
              "      <td>0</td>\n",
              "      <td>0</td>\n",
              "      <td>1</td>\n",
              "    </tr>\n",
              "    <tr>\n",
              "      <th>2</th>\n",
              "      <td>62</td>\n",
              "      <td>80.0</td>\n",
              "      <td>1.010</td>\n",
              "      <td>2.0</td>\n",
              "      <td>3.0</td>\n",
              "      <td>1</td>\n",
              "      <td>1</td>\n",
              "      <td>0</td>\n",
              "      <td>0</td>\n",
              "      <td>423.0</td>\n",
              "      <td>...</td>\n",
              "      <td>31</td>\n",
              "      <td>7500</td>\n",
              "      <td>4.8</td>\n",
              "      <td>0</td>\n",
              "      <td>1</td>\n",
              "      <td>0</td>\n",
              "      <td>0</td>\n",
              "      <td>0</td>\n",
              "      <td>1</td>\n",
              "      <td>1</td>\n",
              "    </tr>\n",
              "    <tr>\n",
              "      <th>3</th>\n",
              "      <td>48</td>\n",
              "      <td>70.0</td>\n",
              "      <td>1.005</td>\n",
              "      <td>4.0</td>\n",
              "      <td>0.0</td>\n",
              "      <td>1</td>\n",
              "      <td>0</td>\n",
              "      <td>1</td>\n",
              "      <td>0</td>\n",
              "      <td>117.0</td>\n",
              "      <td>...</td>\n",
              "      <td>32</td>\n",
              "      <td>6700</td>\n",
              "      <td>3.9</td>\n",
              "      <td>1</td>\n",
              "      <td>0</td>\n",
              "      <td>0</td>\n",
              "      <td>0</td>\n",
              "      <td>1</td>\n",
              "      <td>1</td>\n",
              "      <td>1</td>\n",
              "    </tr>\n",
              "  </tbody>\n",
              "</table>\n",
              "<p>4 rows × 25 columns</p>\n",
              "</div>\n",
              "      <button class=\"colab-df-convert\" onclick=\"convertToInteractive('df-13d8e9d0-4374-46d7-926c-4526e6d57fa1')\"\n",
              "              title=\"Convert this dataframe to an interactive table.\"\n",
              "              style=\"display:none;\">\n",
              "        \n",
              "  <svg xmlns=\"http://www.w3.org/2000/svg\" height=\"24px\"viewBox=\"0 0 24 24\"\n",
              "       width=\"24px\">\n",
              "    <path d=\"M0 0h24v24H0V0z\" fill=\"none\"/>\n",
              "    <path d=\"M18.56 5.44l.94 2.06.94-2.06 2.06-.94-2.06-.94-.94-2.06-.94 2.06-2.06.94zm-11 1L8.5 8.5l.94-2.06 2.06-.94-2.06-.94L8.5 2.5l-.94 2.06-2.06.94zm10 10l.94 2.06.94-2.06 2.06-.94-2.06-.94-.94-2.06-.94 2.06-2.06.94z\"/><path d=\"M17.41 7.96l-1.37-1.37c-.4-.4-.92-.59-1.43-.59-.52 0-1.04.2-1.43.59L10.3 9.45l-7.72 7.72c-.78.78-.78 2.05 0 2.83L4 21.41c.39.39.9.59 1.41.59.51 0 1.02-.2 1.41-.59l7.78-7.78 2.81-2.81c.8-.78.8-2.07 0-2.86zM5.41 20L4 18.59l7.72-7.72 1.47 1.35L5.41 20z\"/>\n",
              "  </svg>\n",
              "      </button>\n",
              "      \n",
              "  <style>\n",
              "    .colab-df-container {\n",
              "      display:flex;\n",
              "      flex-wrap:wrap;\n",
              "      gap: 12px;\n",
              "    }\n",
              "\n",
              "    .colab-df-convert {\n",
              "      background-color: #E8F0FE;\n",
              "      border: none;\n",
              "      border-radius: 50%;\n",
              "      cursor: pointer;\n",
              "      display: none;\n",
              "      fill: #1967D2;\n",
              "      height: 32px;\n",
              "      padding: 0 0 0 0;\n",
              "      width: 32px;\n",
              "    }\n",
              "\n",
              "    .colab-df-convert:hover {\n",
              "      background-color: #E2EBFA;\n",
              "      box-shadow: 0px 1px 2px rgba(60, 64, 67, 0.3), 0px 1px 3px 1px rgba(60, 64, 67, 0.15);\n",
              "      fill: #174EA6;\n",
              "    }\n",
              "\n",
              "    [theme=dark] .colab-df-convert {\n",
              "      background-color: #3B4455;\n",
              "      fill: #D2E3FC;\n",
              "    }\n",
              "\n",
              "    [theme=dark] .colab-df-convert:hover {\n",
              "      background-color: #434B5C;\n",
              "      box-shadow: 0px 1px 3px 1px rgba(0, 0, 0, 0.15);\n",
              "      filter: drop-shadow(0px 1px 2px rgba(0, 0, 0, 0.3));\n",
              "      fill: #FFFFFF;\n",
              "    }\n",
              "  </style>\n",
              "\n",
              "      <script>\n",
              "        const buttonEl =\n",
              "          document.querySelector('#df-13d8e9d0-4374-46d7-926c-4526e6d57fa1 button.colab-df-convert');\n",
              "        buttonEl.style.display =\n",
              "          google.colab.kernel.accessAllowed ? 'block' : 'none';\n",
              "\n",
              "        async function convertToInteractive(key) {\n",
              "          const element = document.querySelector('#df-13d8e9d0-4374-46d7-926c-4526e6d57fa1');\n",
              "          const dataTable =\n",
              "            await google.colab.kernel.invokeFunction('convertToInteractive',\n",
              "                                                     [key], {});\n",
              "          if (!dataTable) return;\n",
              "\n",
              "          const docLinkHtml = 'Like what you see? Visit the ' +\n",
              "            '<a target=\"_blank\" href=https://colab.research.google.com/notebooks/data_table.ipynb>data table notebook</a>'\n",
              "            + ' to learn more about interactive tables.';\n",
              "          element.innerHTML = '';\n",
              "          dataTable['output_type'] = 'display_data';\n",
              "          await google.colab.output.renderOutput(dataTable, element);\n",
              "          const docLink = document.createElement('div');\n",
              "          docLink.innerHTML = docLinkHtml;\n",
              "          element.appendChild(docLink);\n",
              "        }\n",
              "      </script>\n",
              "    </div>\n",
              "  </div>\n",
              "  "
            ]
          },
          "metadata": {},
          "execution_count": 109
        }
      ]
    },
    {
      "cell_type": "code",
      "source": [
        "df.dtypes"
      ],
      "metadata": {
        "colab": {
          "base_uri": "https://localhost:8080/"
        },
        "id": "qf3mrBcjJ3E8",
        "outputId": "360f347e-f3fc-4f16-c82c-b6257fec66a6"
      },
      "execution_count": 110,
      "outputs": [
        {
          "output_type": "execute_result",
          "data": {
            "text/plain": [
              "'age'        int64\n",
              "'bp'       float64\n",
              "'sg'       float64\n",
              "'al'       float64\n",
              "'su'       float64\n",
              "'rbc'        int64\n",
              "'pc'         int64\n",
              "'pcc'        int64\n",
              "'ba'         int64\n",
              "'bgr'      float64\n",
              "'bu'       float64\n",
              "'sc'       float64\n",
              "'sod'      float64\n",
              "'pot'      float64\n",
              "'hemo'     float64\n",
              "'pcv'        int64\n",
              "'wbcc'       int64\n",
              "'rbcc'     float64\n",
              "'htn'        int64\n",
              "'dm'         int64\n",
              "'cad'        int64\n",
              "'appet'     object\n",
              "'pe'         int64\n",
              "'ane'        int64\n",
              "'class'     object\n",
              "dtype: object"
            ]
          },
          "metadata": {},
          "execution_count": 110
        }
      ]
    },
    {
      "cell_type": "code",
      "source": [
        "df[[\"'class'\", \"'appet'\"]] = df[[\"'class'\", \"'appet'\"]].astype('int64')"
      ],
      "metadata": {
        "id": "464KaD7nKD6Z"
      },
      "execution_count": 111,
      "outputs": []
    },
    {
      "cell_type": "code",
      "source": [
        "df.shape"
      ],
      "metadata": {
        "colab": {
          "base_uri": "https://localhost:8080/"
        },
        "id": "BvJGyJVeStEd",
        "outputId": "0c48b0e8-aac1-4d1e-c06f-0204f72a7e7f"
      },
      "execution_count": 112,
      "outputs": [
        {
          "output_type": "execute_result",
          "data": {
            "text/plain": [
              "(397, 25)"
            ]
          },
          "metadata": {},
          "execution_count": 112
        }
      ]
    },
    {
      "cell_type": "markdown",
      "source": [
        "# Feature Selection "
      ],
      "metadata": {
        "id": "6ed90qjpMiZh"
      }
    },
    {
      "cell_type": "markdown",
      "source": [
        "**Correlation Matrix**"
      ],
      "metadata": {
        "id": "r4DRTwpKEPNq"
      }
    },
    {
      "cell_type": "code",
      "source": [
        "sns.set(font_scale=0.45)\n",
        "plt.title('Chronic Kidney Disease Attributes Correlation')\n",
        "cmap = sns.diverging_palette(260, 10, as_cmap=True)\n",
        "sns.heatmap(df[[\"'age'\",\"'bp'\",\"'bgr'\",\"'bu'\",\"'sc'\",\"'sod'\",\"'pot'\",\"'hemo'\",\"'pcv'\",\"'wbcc'\",\"'rbcc'\"]].corr(\"spearman\"), vmax=1.2, annot=True, square='square', cmap=cmap, fmt = '.0%')"
      ],
      "metadata": {
        "colab": {
          "base_uri": "https://localhost:8080/",
          "height": 290
        },
        "id": "kvzrXH7FCgPe",
        "outputId": "f63f9835-175b-4b47-af86-9f9ba97b14b3"
      },
      "execution_count": 113,
      "outputs": [
        {
          "output_type": "execute_result",
          "data": {
            "text/plain": [
              "<matplotlib.axes._subplots.AxesSubplot at 0x7f63b7f81850>"
            ]
          },
          "metadata": {},
          "execution_count": 113
        },
        {
          "output_type": "display_data",
          "data": {
            "text/plain": [
              "<Figure size 432x288 with 2 Axes>"
            ],
            "image/png": "[encoded data removed]"
          },
          "metadata": {}
        }
      ]
    },
    {
      "cell_type": "markdown",
      "source": [
        "From Heatmap and Scatterplot, we can easily observe that PCV and Hemoglobin is\n",
        "\n",
        "highly correlated with 88%. So we can remove anyone of this column as it is acting like duplicate of another.\n",
        "From Heatmap and Scatterplot, we can observe that RBC count and PCV are 76% correlated\n",
        "Also RBC count and hemoglobin are 75% correlated while Blood Urea and Serum Creatinine are 69% correlated."
      ],
      "metadata": {
        "id": "VR_vkci5aeVA"
      }
    },
    {
      "cell_type": "code",
      "source": [
        "df.drop(\"'hemo'\",axis=1,inplace=True)\n",
        "df.drop(\"'rbc'\",axis=1,inplace=True)\n",
        "df.drop(\"'sc'\",axis=1,inplace=True)\n"
      ],
      "metadata": {
        "id": "qiDNPSsVNNwl"
      },
      "execution_count": 114,
      "outputs": []
    },
    {
      "cell_type": "code",
      "source": [
        "X = df.drop(\"'class'\", axis=1)\n",
        "y = df[\"'class'\"]"
      ],
      "metadata": {
        "id": "gN-DQ2Q7SicT"
      },
      "execution_count": 115,
      "outputs": []
    },
    {
      "cell_type": "code",
      "source": [
        "X.shape"
      ],
      "metadata": {
        "colab": {
          "base_uri": "https://localhost:8080/"
        },
        "id": "3cskidNRPy5b",
        "outputId": "aab42f42-4180-4366-9fcb-6f49ca340b7f"
      },
      "execution_count": 116,
      "outputs": [
        {
          "output_type": "execute_result",
          "data": {
            "text/plain": [
              "(397, 21)"
            ]
          },
          "metadata": {},
          "execution_count": 116
        }
      ]
    },
    {
      "cell_type": "markdown",
      "source": [
        "**RFECV**"
      ],
      "metadata": {
        "id": "HBRNwUe5SKCd"
      }
    },
    {
      "cell_type": "code",
      "source": [
        "\n",
        "svc = SVC(kernel=\"linear\")\n",
        "rfecv = RFECV(estimator=svc, cv=3)\n",
        "rfecv.fit(X, y)\n",
        "print(\"Optimal number of features : %d\" % rfecv.n_features_)\n",
        "# Plotting number of features and cross-validation scores\n",
        "plt.figure()\n",
        "plt.xlabel(\"Number of features selected\")\n",
        "plt.ylabel(\"Cross validation score (nb of correct classifications)\")\n",
        "plt.plot(range(1, len(rfecv.grid_scores_) + 1), rfecv.grid_scores_)\n",
        "plt.show()\n",
        "print(rfecv.ranking_)"
      ],
      "metadata": {
        "colab": {
          "base_uri": "https://localhost:8080/",
          "height": 361
        },
        "id": "XiQHwo3tMsOO",
        "outputId": "6a2d9728-d561-4e6b-d73f-c9ecb0673197"
      },
      "execution_count": 117,
      "outputs": [
        {
          "output_type": "stream",
          "name": "stdout",
          "text": [
            "Optimal number of features : 14\n"
          ]
        },
        {
          "output_type": "stream",
          "name": "stderr",
          "text": [
            "/usr/local/lib/python3.7/dist-packages/sklearn/utils/deprecation.py:103: FutureWarning: The `grid_scores_` attribute is deprecated in version 1.0 in favor of `cv_results_` and will be removed in version 1.2.\n",
            "  warnings.warn(msg, category=FutureWarning)\n"
          ]
        },
        {
          "output_type": "display_data",
          "data": {
            "text/plain": [
              "<Figure size 432x288 with 1 Axes>"
            ],
            "image/png": "[encoded data removed]"
          },
          "metadata": {}
        },
        {
          "output_type": "stream",
          "name": "stdout",
          "text": [
            "[4 1 1 1 1 1 6 7 3 2 1 1 1 5 1 1 1 8 1 1 1]\n"
          ]
        }
      ]
    },
    {
      "cell_type": "markdown",
      "source": [
        "Optimal number of features is 17 as shown"
      ],
      "metadata": {
        "id": "P1abq65DQ_82"
      }
    },
    {
      "cell_type": "markdown",
      "source": [
        "# Standardization of the data"
      ],
      "metadata": {
        "id": "PtmFsIiFSvqf"
      }
    },
    {
      "cell_type": "code",
      "source": [
        "scaler = StandardScaler()\n",
        "features = scaler.fit_transform(X)\n",
        "features"
      ],
      "metadata": {
        "colab": {
          "base_uri": "https://localhost:8080/"
        },
        "id": "pR31Qrd1Sqam",
        "outputId": "7a9c8615-b571-4111-9068-92625e934a2f"
      },
      "execution_count": 118,
      "outputs": [
        {
          "output_type": "execute_result",
          "data": {
            "text/plain": [
              "array([[-0.20766227,  0.2537764 ,  0.41742111, ...,  0.51021315,\n",
              "        -0.48261709, -0.42194969],\n",
              "       [-2.63068651, -1.96863308,  0.41742111, ...,  0.51021315,\n",
              "        -0.48261709, -0.42194969],\n",
              "       [ 0.61971186,  0.2537764 , -1.4238698 , ..., -1.95996516,\n",
              "        -0.48261709,  2.36995077],\n",
              "       ...,\n",
              "       [-2.33519575,  0.2537764 ,  0.41742111, ...,  0.51021315,\n",
              "        -0.48261709, -0.42194969],\n",
              "       [-2.03970499, -1.22782992,  1.33806657, ...,  0.51021315,\n",
              "        -0.48261709, -0.42194969],\n",
              "       [ 0.38331925,  0.2537764 ,  1.33806657, ...,  0.51021315,\n",
              "        -0.48261709, -0.42194969]])"
            ]
          },
          "metadata": {},
          "execution_count": 118
        }
      ]
    },
    {
      "cell_type": "markdown",
      "source": [
        "# Splitting data "
      ],
      "metadata": {
        "id": "nJrRw5xITGoo"
      }
    },
    {
      "cell_type": "code",
      "source": [
        "X_train, X_test, y_train, y_test = train_test_split(features, y, test_size=0.2) "
      ],
      "metadata": {
        "id": "HgmoF3UDTIjj"
      },
      "execution_count": 119,
      "outputs": []
    }
  ]
}